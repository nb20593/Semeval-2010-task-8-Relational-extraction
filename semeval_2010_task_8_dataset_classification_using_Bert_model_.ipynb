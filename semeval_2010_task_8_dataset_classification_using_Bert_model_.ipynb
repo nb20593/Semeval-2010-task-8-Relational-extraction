{
  "nbformat": 4,
  "nbformat_minor": 0,
  "metadata": {
    "accelerator": "GPU",
    "colab": {
      "name": "semeval 2010 task 8 dataset classification using Bert model .ipynb",
      "provenance": [],
      "collapsed_sections": []
    },
    "kernelspec": {
      "display_name": "Python 3",
      "name": "python3"
    },
    "language_info": {
      "name": "python"
    },
    "widgets": {
      "application/vnd.jupyter.widget-state+json": {
        "eba664f8c1524bac9584035c29feb543": {
          "model_module": "@jupyter-widgets/controls",
          "model_name": "HBoxModel",
          "model_module_version": "1.5.0",
          "state": {
            "_view_name": "HBoxView",
            "_dom_classes": [],
            "_model_name": "HBoxModel",
            "_view_module": "@jupyter-widgets/controls",
            "_model_module_version": "1.5.0",
            "_view_count": null,
            "_view_module_version": "1.5.0",
            "box_style": "",
            "layout": "IPY_MODEL_6a006ad84fd6473f800016d983b5b946",
            "_model_module": "@jupyter-widgets/controls",
            "children": [
              "IPY_MODEL_8ee970a2c750409692c89305c3625b78",
              "IPY_MODEL_183cd31635684b64946992514e6b17c1",
              "IPY_MODEL_1a0c076f1c9c404f8f628ed12ba0c401"
            ]
          }
        },
        "6a006ad84fd6473f800016d983b5b946": {
          "model_module": "@jupyter-widgets/base",
          "model_name": "LayoutModel",
          "model_module_version": "1.2.0",
          "state": {
            "_view_name": "LayoutView",
            "grid_template_rows": null,
            "right": null,
            "justify_content": null,
            "_view_module": "@jupyter-widgets/base",
            "overflow": null,
            "_model_module_version": "1.2.0",
            "_view_count": null,
            "flex_flow": null,
            "width": null,
            "min_width": null,
            "border": null,
            "align_items": null,
            "bottom": null,
            "_model_module": "@jupyter-widgets/base",
            "top": null,
            "grid_column": null,
            "overflow_y": null,
            "overflow_x": null,
            "grid_auto_flow": null,
            "grid_area": null,
            "grid_template_columns": null,
            "flex": null,
            "_model_name": "LayoutModel",
            "justify_items": null,
            "grid_row": null,
            "max_height": null,
            "align_content": null,
            "visibility": null,
            "align_self": null,
            "height": null,
            "min_height": null,
            "padding": null,
            "grid_auto_rows": null,
            "grid_gap": null,
            "max_width": null,
            "order": null,
            "_view_module_version": "1.2.0",
            "grid_template_areas": null,
            "object_position": null,
            "object_fit": null,
            "grid_auto_columns": null,
            "margin": null,
            "display": null,
            "left": null
          }
        },
        "8ee970a2c750409692c89305c3625b78": {
          "model_module": "@jupyter-widgets/controls",
          "model_name": "HTMLModel",
          "model_module_version": "1.5.0",
          "state": {
            "_view_name": "HTMLView",
            "style": "IPY_MODEL_af15bc8399d743e6835c84d32cca2ce6",
            "_dom_classes": [],
            "description": "",
            "_model_name": "HTMLModel",
            "placeholder": "​",
            "_view_module": "@jupyter-widgets/controls",
            "_model_module_version": "1.5.0",
            "value": "Downloading: 100%",
            "_view_count": null,
            "_view_module_version": "1.5.0",
            "description_tooltip": null,
            "_model_module": "@jupyter-widgets/controls",
            "layout": "IPY_MODEL_7b66d49a0e984e5f8a1c4ab680e94427"
          }
        },
        "183cd31635684b64946992514e6b17c1": {
          "model_module": "@jupyter-widgets/controls",
          "model_name": "FloatProgressModel",
          "model_module_version": "1.5.0",
          "state": {
            "_view_name": "ProgressView",
            "style": "IPY_MODEL_c819cf0638c84ee3b6a786e9f6f25e0a",
            "_dom_classes": [],
            "description": "",
            "_model_name": "FloatProgressModel",
            "bar_style": "success",
            "max": 231508,
            "_view_module": "@jupyter-widgets/controls",
            "_model_module_version": "1.5.0",
            "value": 231508,
            "_view_count": null,
            "_view_module_version": "1.5.0",
            "orientation": "horizontal",
            "min": 0,
            "description_tooltip": null,
            "_model_module": "@jupyter-widgets/controls",
            "layout": "IPY_MODEL_3a46d3a00efc46ed954af9591a344bac"
          }
        },
        "1a0c076f1c9c404f8f628ed12ba0c401": {
          "model_module": "@jupyter-widgets/controls",
          "model_name": "HTMLModel",
          "model_module_version": "1.5.0",
          "state": {
            "_view_name": "HTMLView",
            "style": "IPY_MODEL_579b5e53f7a645ae8e2c80e57a21d583",
            "_dom_classes": [],
            "description": "",
            "_model_name": "HTMLModel",
            "placeholder": "​",
            "_view_module": "@jupyter-widgets/controls",
            "_model_module_version": "1.5.0",
            "value": " 232k/232k [00:00&lt;00:00, 1.34MB/s]",
            "_view_count": null,
            "_view_module_version": "1.5.0",
            "description_tooltip": null,
            "_model_module": "@jupyter-widgets/controls",
            "layout": "IPY_MODEL_1d327a5851b94eac8bb33f99c75c95e5"
          }
        },
        "af15bc8399d743e6835c84d32cca2ce6": {
          "model_module": "@jupyter-widgets/controls",
          "model_name": "DescriptionStyleModel",
          "model_module_version": "1.5.0",
          "state": {
            "_view_name": "StyleView",
            "_model_name": "DescriptionStyleModel",
            "description_width": "",
            "_view_module": "@jupyter-widgets/base",
            "_model_module_version": "1.5.0",
            "_view_count": null,
            "_view_module_version": "1.2.0",
            "_model_module": "@jupyter-widgets/controls"
          }
        },
        "7b66d49a0e984e5f8a1c4ab680e94427": {
          "model_module": "@jupyter-widgets/base",
          "model_name": "LayoutModel",
          "model_module_version": "1.2.0",
          "state": {
            "_view_name": "LayoutView",
            "grid_template_rows": null,
            "right": null,
            "justify_content": null,
            "_view_module": "@jupyter-widgets/base",
            "overflow": null,
            "_model_module_version": "1.2.0",
            "_view_count": null,
            "flex_flow": null,
            "width": null,
            "min_width": null,
            "border": null,
            "align_items": null,
            "bottom": null,
            "_model_module": "@jupyter-widgets/base",
            "top": null,
            "grid_column": null,
            "overflow_y": null,
            "overflow_x": null,
            "grid_auto_flow": null,
            "grid_area": null,
            "grid_template_columns": null,
            "flex": null,
            "_model_name": "LayoutModel",
            "justify_items": null,
            "grid_row": null,
            "max_height": null,
            "align_content": null,
            "visibility": null,
            "align_self": null,
            "height": null,
            "min_height": null,
            "padding": null,
            "grid_auto_rows": null,
            "grid_gap": null,
            "max_width": null,
            "order": null,
            "_view_module_version": "1.2.0",
            "grid_template_areas": null,
            "object_position": null,
            "object_fit": null,
            "grid_auto_columns": null,
            "margin": null,
            "display": null,
            "left": null
          }
        },
        "c819cf0638c84ee3b6a786e9f6f25e0a": {
          "model_module": "@jupyter-widgets/controls",
          "model_name": "ProgressStyleModel",
          "model_module_version": "1.5.0",
          "state": {
            "_view_name": "StyleView",
            "_model_name": "ProgressStyleModel",
            "description_width": "",
            "_view_module": "@jupyter-widgets/base",
            "_model_module_version": "1.5.0",
            "_view_count": null,
            "_view_module_version": "1.2.0",
            "bar_color": null,
            "_model_module": "@jupyter-widgets/controls"
          }
        },
        "3a46d3a00efc46ed954af9591a344bac": {
          "model_module": "@jupyter-widgets/base",
          "model_name": "LayoutModel",
          "model_module_version": "1.2.0",
          "state": {
            "_view_name": "LayoutView",
            "grid_template_rows": null,
            "right": null,
            "justify_content": null,
            "_view_module": "@jupyter-widgets/base",
            "overflow": null,
            "_model_module_version": "1.2.0",
            "_view_count": null,
            "flex_flow": null,
            "width": null,
            "min_width": null,
            "border": null,
            "align_items": null,
            "bottom": null,
            "_model_module": "@jupyter-widgets/base",
            "top": null,
            "grid_column": null,
            "overflow_y": null,
            "overflow_x": null,
            "grid_auto_flow": null,
            "grid_area": null,
            "grid_template_columns": null,
            "flex": null,
            "_model_name": "LayoutModel",
            "justify_items": null,
            "grid_row": null,
            "max_height": null,
            "align_content": null,
            "visibility": null,
            "align_self": null,
            "height": null,
            "min_height": null,
            "padding": null,
            "grid_auto_rows": null,
            "grid_gap": null,
            "max_width": null,
            "order": null,
            "_view_module_version": "1.2.0",
            "grid_template_areas": null,
            "object_position": null,
            "object_fit": null,
            "grid_auto_columns": null,
            "margin": null,
            "display": null,
            "left": null
          }
        },
        "579b5e53f7a645ae8e2c80e57a21d583": {
          "model_module": "@jupyter-widgets/controls",
          "model_name": "DescriptionStyleModel",
          "model_module_version": "1.5.0",
          "state": {
            "_view_name": "StyleView",
            "_model_name": "DescriptionStyleModel",
            "description_width": "",
            "_view_module": "@jupyter-widgets/base",
            "_model_module_version": "1.5.0",
            "_view_count": null,
            "_view_module_version": "1.2.0",
            "_model_module": "@jupyter-widgets/controls"
          }
        },
        "1d327a5851b94eac8bb33f99c75c95e5": {
          "model_module": "@jupyter-widgets/base",
          "model_name": "LayoutModel",
          "model_module_version": "1.2.0",
          "state": {
            "_view_name": "LayoutView",
            "grid_template_rows": null,
            "right": null,
            "justify_content": null,
            "_view_module": "@jupyter-widgets/base",
            "overflow": null,
            "_model_module_version": "1.2.0",
            "_view_count": null,
            "flex_flow": null,
            "width": null,
            "min_width": null,
            "border": null,
            "align_items": null,
            "bottom": null,
            "_model_module": "@jupyter-widgets/base",
            "top": null,
            "grid_column": null,
            "overflow_y": null,
            "overflow_x": null,
            "grid_auto_flow": null,
            "grid_area": null,
            "grid_template_columns": null,
            "flex": null,
            "_model_name": "LayoutModel",
            "justify_items": null,
            "grid_row": null,
            "max_height": null,
            "align_content": null,
            "visibility": null,
            "align_self": null,
            "height": null,
            "min_height": null,
            "padding": null,
            "grid_auto_rows": null,
            "grid_gap": null,
            "max_width": null,
            "order": null,
            "_view_module_version": "1.2.0",
            "grid_template_areas": null,
            "object_position": null,
            "object_fit": null,
            "grid_auto_columns": null,
            "margin": null,
            "display": null,
            "left": null
          }
        },
        "c9940af86dee497b9d22a2b7bbbce2d0": {
          "model_module": "@jupyter-widgets/controls",
          "model_name": "HBoxModel",
          "model_module_version": "1.5.0",
          "state": {
            "_view_name": "HBoxView",
            "_dom_classes": [],
            "_model_name": "HBoxModel",
            "_view_module": "@jupyter-widgets/controls",
            "_model_module_version": "1.5.0",
            "_view_count": null,
            "_view_module_version": "1.5.0",
            "box_style": "",
            "layout": "IPY_MODEL_841b173ecf9a48aa99e7dcfc1476286a",
            "_model_module": "@jupyter-widgets/controls",
            "children": [
              "IPY_MODEL_6efd363c434a4ca182a36ae91066458f",
              "IPY_MODEL_49ce758adfa24ea69be5d58982255506",
              "IPY_MODEL_b32df77e95d347f181cc068e62e13e2e"
            ]
          }
        },
        "841b173ecf9a48aa99e7dcfc1476286a": {
          "model_module": "@jupyter-widgets/base",
          "model_name": "LayoutModel",
          "model_module_version": "1.2.0",
          "state": {
            "_view_name": "LayoutView",
            "grid_template_rows": null,
            "right": null,
            "justify_content": null,
            "_view_module": "@jupyter-widgets/base",
            "overflow": null,
            "_model_module_version": "1.2.0",
            "_view_count": null,
            "flex_flow": null,
            "width": null,
            "min_width": null,
            "border": null,
            "align_items": null,
            "bottom": null,
            "_model_module": "@jupyter-widgets/base",
            "top": null,
            "grid_column": null,
            "overflow_y": null,
            "overflow_x": null,
            "grid_auto_flow": null,
            "grid_area": null,
            "grid_template_columns": null,
            "flex": null,
            "_model_name": "LayoutModel",
            "justify_items": null,
            "grid_row": null,
            "max_height": null,
            "align_content": null,
            "visibility": null,
            "align_self": null,
            "height": null,
            "min_height": null,
            "padding": null,
            "grid_auto_rows": null,
            "grid_gap": null,
            "max_width": null,
            "order": null,
            "_view_module_version": "1.2.0",
            "grid_template_areas": null,
            "object_position": null,
            "object_fit": null,
            "grid_auto_columns": null,
            "margin": null,
            "display": null,
            "left": null
          }
        },
        "6efd363c434a4ca182a36ae91066458f": {
          "model_module": "@jupyter-widgets/controls",
          "model_name": "HTMLModel",
          "model_module_version": "1.5.0",
          "state": {
            "_view_name": "HTMLView",
            "style": "IPY_MODEL_8a12cf1c95a84b929c5fc7344627462b",
            "_dom_classes": [],
            "description": "",
            "_model_name": "HTMLModel",
            "placeholder": "​",
            "_view_module": "@jupyter-widgets/controls",
            "_model_module_version": "1.5.0",
            "value": "Downloading: 100%",
            "_view_count": null,
            "_view_module_version": "1.5.0",
            "description_tooltip": null,
            "_model_module": "@jupyter-widgets/controls",
            "layout": "IPY_MODEL_f9f81a702c6e420885e4740860532854"
          }
        },
        "49ce758adfa24ea69be5d58982255506": {
          "model_module": "@jupyter-widgets/controls",
          "model_name": "FloatProgressModel",
          "model_module_version": "1.5.0",
          "state": {
            "_view_name": "ProgressView",
            "style": "IPY_MODEL_79f251179f3e41ad9ba50b32572c2d8d",
            "_dom_classes": [],
            "description": "",
            "_model_name": "FloatProgressModel",
            "bar_style": "success",
            "max": 28,
            "_view_module": "@jupyter-widgets/controls",
            "_model_module_version": "1.5.0",
            "value": 28,
            "_view_count": null,
            "_view_module_version": "1.5.0",
            "orientation": "horizontal",
            "min": 0,
            "description_tooltip": null,
            "_model_module": "@jupyter-widgets/controls",
            "layout": "IPY_MODEL_d1a22da1e8104d0b95be0a08edd8303d"
          }
        },
        "b32df77e95d347f181cc068e62e13e2e": {
          "model_module": "@jupyter-widgets/controls",
          "model_name": "HTMLModel",
          "model_module_version": "1.5.0",
          "state": {
            "_view_name": "HTMLView",
            "style": "IPY_MODEL_f3702c6355074890b5175ba34620597e",
            "_dom_classes": [],
            "description": "",
            "_model_name": "HTMLModel",
            "placeholder": "​",
            "_view_module": "@jupyter-widgets/controls",
            "_model_module_version": "1.5.0",
            "value": " 28.0/28.0 [00:00&lt;00:00, 506B/s]",
            "_view_count": null,
            "_view_module_version": "1.5.0",
            "description_tooltip": null,
            "_model_module": "@jupyter-widgets/controls",
            "layout": "IPY_MODEL_963fe1d203f040a5b5128869f4f478b7"
          }
        },
        "8a12cf1c95a84b929c5fc7344627462b": {
          "model_module": "@jupyter-widgets/controls",
          "model_name": "DescriptionStyleModel",
          "model_module_version": "1.5.0",
          "state": {
            "_view_name": "StyleView",
            "_model_name": "DescriptionStyleModel",
            "description_width": "",
            "_view_module": "@jupyter-widgets/base",
            "_model_module_version": "1.5.0",
            "_view_count": null,
            "_view_module_version": "1.2.0",
            "_model_module": "@jupyter-widgets/controls"
          }
        },
        "f9f81a702c6e420885e4740860532854": {
          "model_module": "@jupyter-widgets/base",
          "model_name": "LayoutModel",
          "model_module_version": "1.2.0",
          "state": {
            "_view_name": "LayoutView",
            "grid_template_rows": null,
            "right": null,
            "justify_content": null,
            "_view_module": "@jupyter-widgets/base",
            "overflow": null,
            "_model_module_version": "1.2.0",
            "_view_count": null,
            "flex_flow": null,
            "width": null,
            "min_width": null,
            "border": null,
            "align_items": null,
            "bottom": null,
            "_model_module": "@jupyter-widgets/base",
            "top": null,
            "grid_column": null,
            "overflow_y": null,
            "overflow_x": null,
            "grid_auto_flow": null,
            "grid_area": null,
            "grid_template_columns": null,
            "flex": null,
            "_model_name": "LayoutModel",
            "justify_items": null,
            "grid_row": null,
            "max_height": null,
            "align_content": null,
            "visibility": null,
            "align_self": null,
            "height": null,
            "min_height": null,
            "padding": null,
            "grid_auto_rows": null,
            "grid_gap": null,
            "max_width": null,
            "order": null,
            "_view_module_version": "1.2.0",
            "grid_template_areas": null,
            "object_position": null,
            "object_fit": null,
            "grid_auto_columns": null,
            "margin": null,
            "display": null,
            "left": null
          }
        },
        "79f251179f3e41ad9ba50b32572c2d8d": {
          "model_module": "@jupyter-widgets/controls",
          "model_name": "ProgressStyleModel",
          "model_module_version": "1.5.0",
          "state": {
            "_view_name": "StyleView",
            "_model_name": "ProgressStyleModel",
            "description_width": "",
            "_view_module": "@jupyter-widgets/base",
            "_model_module_version": "1.5.0",
            "_view_count": null,
            "_view_module_version": "1.2.0",
            "bar_color": null,
            "_model_module": "@jupyter-widgets/controls"
          }
        },
        "d1a22da1e8104d0b95be0a08edd8303d": {
          "model_module": "@jupyter-widgets/base",
          "model_name": "LayoutModel",
          "model_module_version": "1.2.0",
          "state": {
            "_view_name": "LayoutView",
            "grid_template_rows": null,
            "right": null,
            "justify_content": null,
            "_view_module": "@jupyter-widgets/base",
            "overflow": null,
            "_model_module_version": "1.2.0",
            "_view_count": null,
            "flex_flow": null,
            "width": null,
            "min_width": null,
            "border": null,
            "align_items": null,
            "bottom": null,
            "_model_module": "@jupyter-widgets/base",
            "top": null,
            "grid_column": null,
            "overflow_y": null,
            "overflow_x": null,
            "grid_auto_flow": null,
            "grid_area": null,
            "grid_template_columns": null,
            "flex": null,
            "_model_name": "LayoutModel",
            "justify_items": null,
            "grid_row": null,
            "max_height": null,
            "align_content": null,
            "visibility": null,
            "align_self": null,
            "height": null,
            "min_height": null,
            "padding": null,
            "grid_auto_rows": null,
            "grid_gap": null,
            "max_width": null,
            "order": null,
            "_view_module_version": "1.2.0",
            "grid_template_areas": null,
            "object_position": null,
            "object_fit": null,
            "grid_auto_columns": null,
            "margin": null,
            "display": null,
            "left": null
          }
        },
        "f3702c6355074890b5175ba34620597e": {
          "model_module": "@jupyter-widgets/controls",
          "model_name": "DescriptionStyleModel",
          "model_module_version": "1.5.0",
          "state": {
            "_view_name": "StyleView",
            "_model_name": "DescriptionStyleModel",
            "description_width": "",
            "_view_module": "@jupyter-widgets/base",
            "_model_module_version": "1.5.0",
            "_view_count": null,
            "_view_module_version": "1.2.0",
            "_model_module": "@jupyter-widgets/controls"
          }
        },
        "963fe1d203f040a5b5128869f4f478b7": {
          "model_module": "@jupyter-widgets/base",
          "model_name": "LayoutModel",
          "model_module_version": "1.2.0",
          "state": {
            "_view_name": "LayoutView",
            "grid_template_rows": null,
            "right": null,
            "justify_content": null,
            "_view_module": "@jupyter-widgets/base",
            "overflow": null,
            "_model_module_version": "1.2.0",
            "_view_count": null,
            "flex_flow": null,
            "width": null,
            "min_width": null,
            "border": null,
            "align_items": null,
            "bottom": null,
            "_model_module": "@jupyter-widgets/base",
            "top": null,
            "grid_column": null,
            "overflow_y": null,
            "overflow_x": null,
            "grid_auto_flow": null,
            "grid_area": null,
            "grid_template_columns": null,
            "flex": null,
            "_model_name": "LayoutModel",
            "justify_items": null,
            "grid_row": null,
            "max_height": null,
            "align_content": null,
            "visibility": null,
            "align_self": null,
            "height": null,
            "min_height": null,
            "padding": null,
            "grid_auto_rows": null,
            "grid_gap": null,
            "max_width": null,
            "order": null,
            "_view_module_version": "1.2.0",
            "grid_template_areas": null,
            "object_position": null,
            "object_fit": null,
            "grid_auto_columns": null,
            "margin": null,
            "display": null,
            "left": null
          }
        },
        "8bb2ee760cd64be2b593dbf66078698a": {
          "model_module": "@jupyter-widgets/controls",
          "model_name": "HBoxModel",
          "model_module_version": "1.5.0",
          "state": {
            "_view_name": "HBoxView",
            "_dom_classes": [],
            "_model_name": "HBoxModel",
            "_view_module": "@jupyter-widgets/controls",
            "_model_module_version": "1.5.0",
            "_view_count": null,
            "_view_module_version": "1.5.0",
            "box_style": "",
            "layout": "IPY_MODEL_af64fea50b4f468dad41fd0f94ea962e",
            "_model_module": "@jupyter-widgets/controls",
            "children": [
              "IPY_MODEL_85b95224dcdd4e6baf73ce17e1be361e",
              "IPY_MODEL_bda201aecb0a4b218d5b0dfc1f0c00fc",
              "IPY_MODEL_89321a0221cf48a794728d87654a4d4d"
            ]
          }
        },
        "af64fea50b4f468dad41fd0f94ea962e": {
          "model_module": "@jupyter-widgets/base",
          "model_name": "LayoutModel",
          "model_module_version": "1.2.0",
          "state": {
            "_view_name": "LayoutView",
            "grid_template_rows": null,
            "right": null,
            "justify_content": null,
            "_view_module": "@jupyter-widgets/base",
            "overflow": null,
            "_model_module_version": "1.2.0",
            "_view_count": null,
            "flex_flow": null,
            "width": null,
            "min_width": null,
            "border": null,
            "align_items": null,
            "bottom": null,
            "_model_module": "@jupyter-widgets/base",
            "top": null,
            "grid_column": null,
            "overflow_y": null,
            "overflow_x": null,
            "grid_auto_flow": null,
            "grid_area": null,
            "grid_template_columns": null,
            "flex": null,
            "_model_name": "LayoutModel",
            "justify_items": null,
            "grid_row": null,
            "max_height": null,
            "align_content": null,
            "visibility": null,
            "align_self": null,
            "height": null,
            "min_height": null,
            "padding": null,
            "grid_auto_rows": null,
            "grid_gap": null,
            "max_width": null,
            "order": null,
            "_view_module_version": "1.2.0",
            "grid_template_areas": null,
            "object_position": null,
            "object_fit": null,
            "grid_auto_columns": null,
            "margin": null,
            "display": null,
            "left": null
          }
        },
        "85b95224dcdd4e6baf73ce17e1be361e": {
          "model_module": "@jupyter-widgets/controls",
          "model_name": "HTMLModel",
          "model_module_version": "1.5.0",
          "state": {
            "_view_name": "HTMLView",
            "style": "IPY_MODEL_b488c88d9fce4f09a706f6c9304200d2",
            "_dom_classes": [],
            "description": "",
            "_model_name": "HTMLModel",
            "placeholder": "​",
            "_view_module": "@jupyter-widgets/controls",
            "_model_module_version": "1.5.0",
            "value": "Downloading: 100%",
            "_view_count": null,
            "_view_module_version": "1.5.0",
            "description_tooltip": null,
            "_model_module": "@jupyter-widgets/controls",
            "layout": "IPY_MODEL_7604d7ec67934e2399a2347564509755"
          }
        },
        "bda201aecb0a4b218d5b0dfc1f0c00fc": {
          "model_module": "@jupyter-widgets/controls",
          "model_name": "FloatProgressModel",
          "model_module_version": "1.5.0",
          "state": {
            "_view_name": "ProgressView",
            "style": "IPY_MODEL_d464c2391a564006a35f3215c0bf0788",
            "_dom_classes": [],
            "description": "",
            "_model_name": "FloatProgressModel",
            "bar_style": "success",
            "max": 466062,
            "_view_module": "@jupyter-widgets/controls",
            "_model_module_version": "1.5.0",
            "value": 466062,
            "_view_count": null,
            "_view_module_version": "1.5.0",
            "orientation": "horizontal",
            "min": 0,
            "description_tooltip": null,
            "_model_module": "@jupyter-widgets/controls",
            "layout": "IPY_MODEL_734e9825fced47aa80c7d15d76e16bf1"
          }
        },
        "89321a0221cf48a794728d87654a4d4d": {
          "model_module": "@jupyter-widgets/controls",
          "model_name": "HTMLModel",
          "model_module_version": "1.5.0",
          "state": {
            "_view_name": "HTMLView",
            "style": "IPY_MODEL_17e2351777ad4deba1db657167573705",
            "_dom_classes": [],
            "description": "",
            "_model_name": "HTMLModel",
            "placeholder": "​",
            "_view_module": "@jupyter-widgets/controls",
            "_model_module_version": "1.5.0",
            "value": " 466k/466k [00:00&lt;00:00, 965kB/s]",
            "_view_count": null,
            "_view_module_version": "1.5.0",
            "description_tooltip": null,
            "_model_module": "@jupyter-widgets/controls",
            "layout": "IPY_MODEL_9886c27e35c548ec8832d188af9993dd"
          }
        },
        "b488c88d9fce4f09a706f6c9304200d2": {
          "model_module": "@jupyter-widgets/controls",
          "model_name": "DescriptionStyleModel",
          "model_module_version": "1.5.0",
          "state": {
            "_view_name": "StyleView",
            "_model_name": "DescriptionStyleModel",
            "description_width": "",
            "_view_module": "@jupyter-widgets/base",
            "_model_module_version": "1.5.0",
            "_view_count": null,
            "_view_module_version": "1.2.0",
            "_model_module": "@jupyter-widgets/controls"
          }
        },
        "7604d7ec67934e2399a2347564509755": {
          "model_module": "@jupyter-widgets/base",
          "model_name": "LayoutModel",
          "model_module_version": "1.2.0",
          "state": {
            "_view_name": "LayoutView",
            "grid_template_rows": null,
            "right": null,
            "justify_content": null,
            "_view_module": "@jupyter-widgets/base",
            "overflow": null,
            "_model_module_version": "1.2.0",
            "_view_count": null,
            "flex_flow": null,
            "width": null,
            "min_width": null,
            "border": null,
            "align_items": null,
            "bottom": null,
            "_model_module": "@jupyter-widgets/base",
            "top": null,
            "grid_column": null,
            "overflow_y": null,
            "overflow_x": null,
            "grid_auto_flow": null,
            "grid_area": null,
            "grid_template_columns": null,
            "flex": null,
            "_model_name": "LayoutModel",
            "justify_items": null,
            "grid_row": null,
            "max_height": null,
            "align_content": null,
            "visibility": null,
            "align_self": null,
            "height": null,
            "min_height": null,
            "padding": null,
            "grid_auto_rows": null,
            "grid_gap": null,
            "max_width": null,
            "order": null,
            "_view_module_version": "1.2.0",
            "grid_template_areas": null,
            "object_position": null,
            "object_fit": null,
            "grid_auto_columns": null,
            "margin": null,
            "display": null,
            "left": null
          }
        },
        "d464c2391a564006a35f3215c0bf0788": {
          "model_module": "@jupyter-widgets/controls",
          "model_name": "ProgressStyleModel",
          "model_module_version": "1.5.0",
          "state": {
            "_view_name": "StyleView",
            "_model_name": "ProgressStyleModel",
            "description_width": "",
            "_view_module": "@jupyter-widgets/base",
            "_model_module_version": "1.5.0",
            "_view_count": null,
            "_view_module_version": "1.2.0",
            "bar_color": null,
            "_model_module": "@jupyter-widgets/controls"
          }
        },
        "734e9825fced47aa80c7d15d76e16bf1": {
          "model_module": "@jupyter-widgets/base",
          "model_name": "LayoutModel",
          "model_module_version": "1.2.0",
          "state": {
            "_view_name": "LayoutView",
            "grid_template_rows": null,
            "right": null,
            "justify_content": null,
            "_view_module": "@jupyter-widgets/base",
            "overflow": null,
            "_model_module_version": "1.2.0",
            "_view_count": null,
            "flex_flow": null,
            "width": null,
            "min_width": null,
            "border": null,
            "align_items": null,
            "bottom": null,
            "_model_module": "@jupyter-widgets/base",
            "top": null,
            "grid_column": null,
            "overflow_y": null,
            "overflow_x": null,
            "grid_auto_flow": null,
            "grid_area": null,
            "grid_template_columns": null,
            "flex": null,
            "_model_name": "LayoutModel",
            "justify_items": null,
            "grid_row": null,
            "max_height": null,
            "align_content": null,
            "visibility": null,
            "align_self": null,
            "height": null,
            "min_height": null,
            "padding": null,
            "grid_auto_rows": null,
            "grid_gap": null,
            "max_width": null,
            "order": null,
            "_view_module_version": "1.2.0",
            "grid_template_areas": null,
            "object_position": null,
            "object_fit": null,
            "grid_auto_columns": null,
            "margin": null,
            "display": null,
            "left": null
          }
        },
        "17e2351777ad4deba1db657167573705": {
          "model_module": "@jupyter-widgets/controls",
          "model_name": "DescriptionStyleModel",
          "model_module_version": "1.5.0",
          "state": {
            "_view_name": "StyleView",
            "_model_name": "DescriptionStyleModel",
            "description_width": "",
            "_view_module": "@jupyter-widgets/base",
            "_model_module_version": "1.5.0",
            "_view_count": null,
            "_view_module_version": "1.2.0",
            "_model_module": "@jupyter-widgets/controls"
          }
        },
        "9886c27e35c548ec8832d188af9993dd": {
          "model_module": "@jupyter-widgets/base",
          "model_name": "LayoutModel",
          "model_module_version": "1.2.0",
          "state": {
            "_view_name": "LayoutView",
            "grid_template_rows": null,
            "right": null,
            "justify_content": null,
            "_view_module": "@jupyter-widgets/base",
            "overflow": null,
            "_model_module_version": "1.2.0",
            "_view_count": null,
            "flex_flow": null,
            "width": null,
            "min_width": null,
            "border": null,
            "align_items": null,
            "bottom": null,
            "_model_module": "@jupyter-widgets/base",
            "top": null,
            "grid_column": null,
            "overflow_y": null,
            "overflow_x": null,
            "grid_auto_flow": null,
            "grid_area": null,
            "grid_template_columns": null,
            "flex": null,
            "_model_name": "LayoutModel",
            "justify_items": null,
            "grid_row": null,
            "max_height": null,
            "align_content": null,
            "visibility": null,
            "align_self": null,
            "height": null,
            "min_height": null,
            "padding": null,
            "grid_auto_rows": null,
            "grid_gap": null,
            "max_width": null,
            "order": null,
            "_view_module_version": "1.2.0",
            "grid_template_areas": null,
            "object_position": null,
            "object_fit": null,
            "grid_auto_columns": null,
            "margin": null,
            "display": null,
            "left": null
          }
        },
        "8720e5d931604f5a86733741436db403": {
          "model_module": "@jupyter-widgets/controls",
          "model_name": "HBoxModel",
          "model_module_version": "1.5.0",
          "state": {
            "_view_name": "HBoxView",
            "_dom_classes": [],
            "_model_name": "HBoxModel",
            "_view_module": "@jupyter-widgets/controls",
            "_model_module_version": "1.5.0",
            "_view_count": null,
            "_view_module_version": "1.5.0",
            "box_style": "",
            "layout": "IPY_MODEL_5a15b734e44a4e50a501aee5575f382c",
            "_model_module": "@jupyter-widgets/controls",
            "children": [
              "IPY_MODEL_53f4087e567142fda2865188e8a4eee8",
              "IPY_MODEL_723436d788954d6db74078100a62451a",
              "IPY_MODEL_fb5166d7ac3d47b38e3aa08f5abb894e"
            ]
          }
        },
        "5a15b734e44a4e50a501aee5575f382c": {
          "model_module": "@jupyter-widgets/base",
          "model_name": "LayoutModel",
          "model_module_version": "1.2.0",
          "state": {
            "_view_name": "LayoutView",
            "grid_template_rows": null,
            "right": null,
            "justify_content": null,
            "_view_module": "@jupyter-widgets/base",
            "overflow": null,
            "_model_module_version": "1.2.0",
            "_view_count": null,
            "flex_flow": null,
            "width": null,
            "min_width": null,
            "border": null,
            "align_items": null,
            "bottom": null,
            "_model_module": "@jupyter-widgets/base",
            "top": null,
            "grid_column": null,
            "overflow_y": null,
            "overflow_x": null,
            "grid_auto_flow": null,
            "grid_area": null,
            "grid_template_columns": null,
            "flex": null,
            "_model_name": "LayoutModel",
            "justify_items": null,
            "grid_row": null,
            "max_height": null,
            "align_content": null,
            "visibility": null,
            "align_self": null,
            "height": null,
            "min_height": null,
            "padding": null,
            "grid_auto_rows": null,
            "grid_gap": null,
            "max_width": null,
            "order": null,
            "_view_module_version": "1.2.0",
            "grid_template_areas": null,
            "object_position": null,
            "object_fit": null,
            "grid_auto_columns": null,
            "margin": null,
            "display": null,
            "left": null
          }
        },
        "53f4087e567142fda2865188e8a4eee8": {
          "model_module": "@jupyter-widgets/controls",
          "model_name": "HTMLModel",
          "model_module_version": "1.5.0",
          "state": {
            "_view_name": "HTMLView",
            "style": "IPY_MODEL_6978dfaad6e245b0ad43fe6caabd331a",
            "_dom_classes": [],
            "description": "",
            "_model_name": "HTMLModel",
            "placeholder": "​",
            "_view_module": "@jupyter-widgets/controls",
            "_model_module_version": "1.5.0",
            "value": "Downloading: 100%",
            "_view_count": null,
            "_view_module_version": "1.5.0",
            "description_tooltip": null,
            "_model_module": "@jupyter-widgets/controls",
            "layout": "IPY_MODEL_0b1c3eb2ecef471ba35133c28157fbb9"
          }
        },
        "723436d788954d6db74078100a62451a": {
          "model_module": "@jupyter-widgets/controls",
          "model_name": "FloatProgressModel",
          "model_module_version": "1.5.0",
          "state": {
            "_view_name": "ProgressView",
            "style": "IPY_MODEL_7a3c9c4de5ac481b9888127cc522a91e",
            "_dom_classes": [],
            "description": "",
            "_model_name": "FloatProgressModel",
            "bar_style": "success",
            "max": 570,
            "_view_module": "@jupyter-widgets/controls",
            "_model_module_version": "1.5.0",
            "value": 570,
            "_view_count": null,
            "_view_module_version": "1.5.0",
            "orientation": "horizontal",
            "min": 0,
            "description_tooltip": null,
            "_model_module": "@jupyter-widgets/controls",
            "layout": "IPY_MODEL_ea680bb705b64c12ab19fcafd5a619b2"
          }
        },
        "fb5166d7ac3d47b38e3aa08f5abb894e": {
          "model_module": "@jupyter-widgets/controls",
          "model_name": "HTMLModel",
          "model_module_version": "1.5.0",
          "state": {
            "_view_name": "HTMLView",
            "style": "IPY_MODEL_5165674c70b84f60b19c913fdba61479",
            "_dom_classes": [],
            "description": "",
            "_model_name": "HTMLModel",
            "placeholder": "​",
            "_view_module": "@jupyter-widgets/controls",
            "_model_module_version": "1.5.0",
            "value": " 570/570 [00:00&lt;00:00, 12.9kB/s]",
            "_view_count": null,
            "_view_module_version": "1.5.0",
            "description_tooltip": null,
            "_model_module": "@jupyter-widgets/controls",
            "layout": "IPY_MODEL_51e42c5c839f4cc89457ff1429a8d19d"
          }
        },
        "6978dfaad6e245b0ad43fe6caabd331a": {
          "model_module": "@jupyter-widgets/controls",
          "model_name": "DescriptionStyleModel",
          "model_module_version": "1.5.0",
          "state": {
            "_view_name": "StyleView",
            "_model_name": "DescriptionStyleModel",
            "description_width": "",
            "_view_module": "@jupyter-widgets/base",
            "_model_module_version": "1.5.0",
            "_view_count": null,
            "_view_module_version": "1.2.0",
            "_model_module": "@jupyter-widgets/controls"
          }
        },
        "0b1c3eb2ecef471ba35133c28157fbb9": {
          "model_module": "@jupyter-widgets/base",
          "model_name": "LayoutModel",
          "model_module_version": "1.2.0",
          "state": {
            "_view_name": "LayoutView",
            "grid_template_rows": null,
            "right": null,
            "justify_content": null,
            "_view_module": "@jupyter-widgets/base",
            "overflow": null,
            "_model_module_version": "1.2.0",
            "_view_count": null,
            "flex_flow": null,
            "width": null,
            "min_width": null,
            "border": null,
            "align_items": null,
            "bottom": null,
            "_model_module": "@jupyter-widgets/base",
            "top": null,
            "grid_column": null,
            "overflow_y": null,
            "overflow_x": null,
            "grid_auto_flow": null,
            "grid_area": null,
            "grid_template_columns": null,
            "flex": null,
            "_model_name": "LayoutModel",
            "justify_items": null,
            "grid_row": null,
            "max_height": null,
            "align_content": null,
            "visibility": null,
            "align_self": null,
            "height": null,
            "min_height": null,
            "padding": null,
            "grid_auto_rows": null,
            "grid_gap": null,
            "max_width": null,
            "order": null,
            "_view_module_version": "1.2.0",
            "grid_template_areas": null,
            "object_position": null,
            "object_fit": null,
            "grid_auto_columns": null,
            "margin": null,
            "display": null,
            "left": null
          }
        },
        "7a3c9c4de5ac481b9888127cc522a91e": {
          "model_module": "@jupyter-widgets/controls",
          "model_name": "ProgressStyleModel",
          "model_module_version": "1.5.0",
          "state": {
            "_view_name": "StyleView",
            "_model_name": "ProgressStyleModel",
            "description_width": "",
            "_view_module": "@jupyter-widgets/base",
            "_model_module_version": "1.5.0",
            "_view_count": null,
            "_view_module_version": "1.2.0",
            "bar_color": null,
            "_model_module": "@jupyter-widgets/controls"
          }
        },
        "ea680bb705b64c12ab19fcafd5a619b2": {
          "model_module": "@jupyter-widgets/base",
          "model_name": "LayoutModel",
          "model_module_version": "1.2.0",
          "state": {
            "_view_name": "LayoutView",
            "grid_template_rows": null,
            "right": null,
            "justify_content": null,
            "_view_module": "@jupyter-widgets/base",
            "overflow": null,
            "_model_module_version": "1.2.0",
            "_view_count": null,
            "flex_flow": null,
            "width": null,
            "min_width": null,
            "border": null,
            "align_items": null,
            "bottom": null,
            "_model_module": "@jupyter-widgets/base",
            "top": null,
            "grid_column": null,
            "overflow_y": null,
            "overflow_x": null,
            "grid_auto_flow": null,
            "grid_area": null,
            "grid_template_columns": null,
            "flex": null,
            "_model_name": "LayoutModel",
            "justify_items": null,
            "grid_row": null,
            "max_height": null,
            "align_content": null,
            "visibility": null,
            "align_self": null,
            "height": null,
            "min_height": null,
            "padding": null,
            "grid_auto_rows": null,
            "grid_gap": null,
            "max_width": null,
            "order": null,
            "_view_module_version": "1.2.0",
            "grid_template_areas": null,
            "object_position": null,
            "object_fit": null,
            "grid_auto_columns": null,
            "margin": null,
            "display": null,
            "left": null
          }
        },
        "5165674c70b84f60b19c913fdba61479": {
          "model_module": "@jupyter-widgets/controls",
          "model_name": "DescriptionStyleModel",
          "model_module_version": "1.5.0",
          "state": {
            "_view_name": "StyleView",
            "_model_name": "DescriptionStyleModel",
            "description_width": "",
            "_view_module": "@jupyter-widgets/base",
            "_model_module_version": "1.5.0",
            "_view_count": null,
            "_view_module_version": "1.2.0",
            "_model_module": "@jupyter-widgets/controls"
          }
        },
        "51e42c5c839f4cc89457ff1429a8d19d": {
          "model_module": "@jupyter-widgets/base",
          "model_name": "LayoutModel",
          "model_module_version": "1.2.0",
          "state": {
            "_view_name": "LayoutView",
            "grid_template_rows": null,
            "right": null,
            "justify_content": null,
            "_view_module": "@jupyter-widgets/base",
            "overflow": null,
            "_model_module_version": "1.2.0",
            "_view_count": null,
            "flex_flow": null,
            "width": null,
            "min_width": null,
            "border": null,
            "align_items": null,
            "bottom": null,
            "_model_module": "@jupyter-widgets/base",
            "top": null,
            "grid_column": null,
            "overflow_y": null,
            "overflow_x": null,
            "grid_auto_flow": null,
            "grid_area": null,
            "grid_template_columns": null,
            "flex": null,
            "_model_name": "LayoutModel",
            "justify_items": null,
            "grid_row": null,
            "max_height": null,
            "align_content": null,
            "visibility": null,
            "align_self": null,
            "height": null,
            "min_height": null,
            "padding": null,
            "grid_auto_rows": null,
            "grid_gap": null,
            "max_width": null,
            "order": null,
            "_view_module_version": "1.2.0",
            "grid_template_areas": null,
            "object_position": null,
            "object_fit": null,
            "grid_auto_columns": null,
            "margin": null,
            "display": null,
            "left": null
          }
        },
        "af3c4cf4a9be40879cf7c270622e295b": {
          "model_module": "@jupyter-widgets/controls",
          "model_name": "HBoxModel",
          "model_module_version": "1.5.0",
          "state": {
            "_view_name": "HBoxView",
            "_dom_classes": [],
            "_model_name": "HBoxModel",
            "_view_module": "@jupyter-widgets/controls",
            "_model_module_version": "1.5.0",
            "_view_count": null,
            "_view_module_version": "1.5.0",
            "box_style": "",
            "layout": "IPY_MODEL_ed1f655c6d7e4a13afb5568faa5cb7c8",
            "_model_module": "@jupyter-widgets/controls",
            "children": [
              "IPY_MODEL_19601c7df2d849629d1410021356f330",
              "IPY_MODEL_d527b26a4f9145be9675bdf3c84935b2",
              "IPY_MODEL_99b173bc74c049afa693e38e3e1f8a3d"
            ]
          }
        },
        "ed1f655c6d7e4a13afb5568faa5cb7c8": {
          "model_module": "@jupyter-widgets/base",
          "model_name": "LayoutModel",
          "model_module_version": "1.2.0",
          "state": {
            "_view_name": "LayoutView",
            "grid_template_rows": null,
            "right": null,
            "justify_content": null,
            "_view_module": "@jupyter-widgets/base",
            "overflow": null,
            "_model_module_version": "1.2.0",
            "_view_count": null,
            "flex_flow": null,
            "width": null,
            "min_width": null,
            "border": null,
            "align_items": null,
            "bottom": null,
            "_model_module": "@jupyter-widgets/base",
            "top": null,
            "grid_column": null,
            "overflow_y": null,
            "overflow_x": null,
            "grid_auto_flow": null,
            "grid_area": null,
            "grid_template_columns": null,
            "flex": null,
            "_model_name": "LayoutModel",
            "justify_items": null,
            "grid_row": null,
            "max_height": null,
            "align_content": null,
            "visibility": null,
            "align_self": null,
            "height": null,
            "min_height": null,
            "padding": null,
            "grid_auto_rows": null,
            "grid_gap": null,
            "max_width": null,
            "order": null,
            "_view_module_version": "1.2.0",
            "grid_template_areas": null,
            "object_position": null,
            "object_fit": null,
            "grid_auto_columns": null,
            "margin": null,
            "display": null,
            "left": null
          }
        },
        "19601c7df2d849629d1410021356f330": {
          "model_module": "@jupyter-widgets/controls",
          "model_name": "HTMLModel",
          "model_module_version": "1.5.0",
          "state": {
            "_view_name": "HTMLView",
            "style": "IPY_MODEL_363d0847f0354a498610c40d3e9e5cc4",
            "_dom_classes": [],
            "description": "",
            "_model_name": "HTMLModel",
            "placeholder": "​",
            "_view_module": "@jupyter-widgets/controls",
            "_model_module_version": "1.5.0",
            "value": "Downloading: 100%",
            "_view_count": null,
            "_view_module_version": "1.5.0",
            "description_tooltip": null,
            "_model_module": "@jupyter-widgets/controls",
            "layout": "IPY_MODEL_51ebfee7bb194bf5abb474ea3e478a7b"
          }
        },
        "d527b26a4f9145be9675bdf3c84935b2": {
          "model_module": "@jupyter-widgets/controls",
          "model_name": "FloatProgressModel",
          "model_module_version": "1.5.0",
          "state": {
            "_view_name": "ProgressView",
            "style": "IPY_MODEL_d1800703b6734fd69d8a340291ba93a4",
            "_dom_classes": [],
            "description": "",
            "_model_name": "FloatProgressModel",
            "bar_style": "success",
            "max": 440473133,
            "_view_module": "@jupyter-widgets/controls",
            "_model_module_version": "1.5.0",
            "value": 440473133,
            "_view_count": null,
            "_view_module_version": "1.5.0",
            "orientation": "horizontal",
            "min": 0,
            "description_tooltip": null,
            "_model_module": "@jupyter-widgets/controls",
            "layout": "IPY_MODEL_d74dfeab908d4088b41a5e13a2cb3177"
          }
        },
        "99b173bc74c049afa693e38e3e1f8a3d": {
          "model_module": "@jupyter-widgets/controls",
          "model_name": "HTMLModel",
          "model_module_version": "1.5.0",
          "state": {
            "_view_name": "HTMLView",
            "style": "IPY_MODEL_6e01ef58209d421cb64f9bb65a629514",
            "_dom_classes": [],
            "description": "",
            "_model_name": "HTMLModel",
            "placeholder": "​",
            "_view_module": "@jupyter-widgets/controls",
            "_model_module_version": "1.5.0",
            "value": " 440M/440M [00:15&lt;00:00, 30.4MB/s]",
            "_view_count": null,
            "_view_module_version": "1.5.0",
            "description_tooltip": null,
            "_model_module": "@jupyter-widgets/controls",
            "layout": "IPY_MODEL_846aafe839204de7982dac9a2a40861e"
          }
        },
        "363d0847f0354a498610c40d3e9e5cc4": {
          "model_module": "@jupyter-widgets/controls",
          "model_name": "DescriptionStyleModel",
          "model_module_version": "1.5.0",
          "state": {
            "_view_name": "StyleView",
            "_model_name": "DescriptionStyleModel",
            "description_width": "",
            "_view_module": "@jupyter-widgets/base",
            "_model_module_version": "1.5.0",
            "_view_count": null,
            "_view_module_version": "1.2.0",
            "_model_module": "@jupyter-widgets/controls"
          }
        },
        "51ebfee7bb194bf5abb474ea3e478a7b": {
          "model_module": "@jupyter-widgets/base",
          "model_name": "LayoutModel",
          "model_module_version": "1.2.0",
          "state": {
            "_view_name": "LayoutView",
            "grid_template_rows": null,
            "right": null,
            "justify_content": null,
            "_view_module": "@jupyter-widgets/base",
            "overflow": null,
            "_model_module_version": "1.2.0",
            "_view_count": null,
            "flex_flow": null,
            "width": null,
            "min_width": null,
            "border": null,
            "align_items": null,
            "bottom": null,
            "_model_module": "@jupyter-widgets/base",
            "top": null,
            "grid_column": null,
            "overflow_y": null,
            "overflow_x": null,
            "grid_auto_flow": null,
            "grid_area": null,
            "grid_template_columns": null,
            "flex": null,
            "_model_name": "LayoutModel",
            "justify_items": null,
            "grid_row": null,
            "max_height": null,
            "align_content": null,
            "visibility": null,
            "align_self": null,
            "height": null,
            "min_height": null,
            "padding": null,
            "grid_auto_rows": null,
            "grid_gap": null,
            "max_width": null,
            "order": null,
            "_view_module_version": "1.2.0",
            "grid_template_areas": null,
            "object_position": null,
            "object_fit": null,
            "grid_auto_columns": null,
            "margin": null,
            "display": null,
            "left": null
          }
        },
        "d1800703b6734fd69d8a340291ba93a4": {
          "model_module": "@jupyter-widgets/controls",
          "model_name": "ProgressStyleModel",
          "model_module_version": "1.5.0",
          "state": {
            "_view_name": "StyleView",
            "_model_name": "ProgressStyleModel",
            "description_width": "",
            "_view_module": "@jupyter-widgets/base",
            "_model_module_version": "1.5.0",
            "_view_count": null,
            "_view_module_version": "1.2.0",
            "bar_color": null,
            "_model_module": "@jupyter-widgets/controls"
          }
        },
        "d74dfeab908d4088b41a5e13a2cb3177": {
          "model_module": "@jupyter-widgets/base",
          "model_name": "LayoutModel",
          "model_module_version": "1.2.0",
          "state": {
            "_view_name": "LayoutView",
            "grid_template_rows": null,
            "right": null,
            "justify_content": null,
            "_view_module": "@jupyter-widgets/base",
            "overflow": null,
            "_model_module_version": "1.2.0",
            "_view_count": null,
            "flex_flow": null,
            "width": null,
            "min_width": null,
            "border": null,
            "align_items": null,
            "bottom": null,
            "_model_module": "@jupyter-widgets/base",
            "top": null,
            "grid_column": null,
            "overflow_y": null,
            "overflow_x": null,
            "grid_auto_flow": null,
            "grid_area": null,
            "grid_template_columns": null,
            "flex": null,
            "_model_name": "LayoutModel",
            "justify_items": null,
            "grid_row": null,
            "max_height": null,
            "align_content": null,
            "visibility": null,
            "align_self": null,
            "height": null,
            "min_height": null,
            "padding": null,
            "grid_auto_rows": null,
            "grid_gap": null,
            "max_width": null,
            "order": null,
            "_view_module_version": "1.2.0",
            "grid_template_areas": null,
            "object_position": null,
            "object_fit": null,
            "grid_auto_columns": null,
            "margin": null,
            "display": null,
            "left": null
          }
        },
        "6e01ef58209d421cb64f9bb65a629514": {
          "model_module": "@jupyter-widgets/controls",
          "model_name": "DescriptionStyleModel",
          "model_module_version": "1.5.0",
          "state": {
            "_view_name": "StyleView",
            "_model_name": "DescriptionStyleModel",
            "description_width": "",
            "_view_module": "@jupyter-widgets/base",
            "_model_module_version": "1.5.0",
            "_view_count": null,
            "_view_module_version": "1.2.0",
            "_model_module": "@jupyter-widgets/controls"
          }
        },
        "846aafe839204de7982dac9a2a40861e": {
          "model_module": "@jupyter-widgets/base",
          "model_name": "LayoutModel",
          "model_module_version": "1.2.0",
          "state": {
            "_view_name": "LayoutView",
            "grid_template_rows": null,
            "right": null,
            "justify_content": null,
            "_view_module": "@jupyter-widgets/base",
            "overflow": null,
            "_model_module_version": "1.2.0",
            "_view_count": null,
            "flex_flow": null,
            "width": null,
            "min_width": null,
            "border": null,
            "align_items": null,
            "bottom": null,
            "_model_module": "@jupyter-widgets/base",
            "top": null,
            "grid_column": null,
            "overflow_y": null,
            "overflow_x": null,
            "grid_auto_flow": null,
            "grid_area": null,
            "grid_template_columns": null,
            "flex": null,
            "_model_name": "LayoutModel",
            "justify_items": null,
            "grid_row": null,
            "max_height": null,
            "align_content": null,
            "visibility": null,
            "align_self": null,
            "height": null,
            "min_height": null,
            "padding": null,
            "grid_auto_rows": null,
            "grid_gap": null,
            "max_width": null,
            "order": null,
            "_view_module_version": "1.2.0",
            "grid_template_areas": null,
            "object_position": null,
            "object_fit": null,
            "grid_auto_columns": null,
            "margin": null,
            "display": null,
            "left": null
          }
        }
      }
    }
  },
  "cells": [
    {
      "cell_type": "markdown",
      "metadata": {
        "id": "p294gnE7ZcyH"
      },
      "source": [
        "# Install Required Packages"
      ]
    },
    {
      "cell_type": "code",
      "metadata": {
        "colab": {
          "base_uri": "https://localhost:8080/"
        },
        "id": "IQGkkC1mOB-C",
        "outputId": "710343d9-4fbc-43f3-d7ef-95cd137ba9cd"
      },
      "source": [
        "import nltk\n",
        "import pandas as pd\n",
        "import numpy as np\n",
        "from nltk.stem.porter import PorterStemmer\n",
        "from nltk.tokenize import TweetTokenizer\n",
        "from nltk.tokenize import word_tokenize \n",
        "from nltk.corpus import stopwords\n",
        "import re\n",
        "from nltk.stem import WordNetLemmatizer\n",
        "stemmer = PorterStemmer()\n",
        "lemmatizer = WordNetLemmatizer()\n",
        "from textblob import TextBlob\n",
        "import requests\n",
        "from collections import Counter\n",
        "\n",
        "import warnings\n",
        "warnings.filterwarnings('ignore')\n",
        "\n",
        "import nltk\n",
        "nltk.download('stopwords')\n",
        "nltk.download('words')\n",
        "stop_words = stopwords.words('english')\n",
        "words = set(nltk.corpus.words.words())\n",
        "nltk.download('punkt')"
      ],
      "execution_count": 1,
      "outputs": [
        {
          "output_type": "stream",
          "name": "stdout",
          "text": [
            "[nltk_data] Downloading package stopwords to /root/nltk_data...\n",
            "[nltk_data]   Unzipping corpora/stopwords.zip.\n",
            "[nltk_data] Downloading package words to /root/nltk_data...\n",
            "[nltk_data]   Unzipping corpora/words.zip.\n",
            "[nltk_data] Downloading package punkt to /root/nltk_data...\n",
            "[nltk_data]   Unzipping tokenizers/punkt.zip.\n"
          ]
        },
        {
          "output_type": "execute_result",
          "data": {
            "text/plain": [
              "True"
            ]
          },
          "metadata": {},
          "execution_count": 1
        }
      ]
    },
    {
      "cell_type": "markdown",
      "metadata": {
        "id": "zW1uD2W8gP0X"
      },
      "source": [
        "Connect to google drive"
      ]
    },
    {
      "cell_type": "code",
      "metadata": {
        "colab": {
          "base_uri": "https://localhost:8080/"
        },
        "id": "I-vBiOp8Oh-X",
        "outputId": "001112af-105f-4511-8805-8410935bd7ff"
      },
      "source": [
        "from google.colab import drive\n",
        "drive.mount('/content/gdrive')"
      ],
      "execution_count": 2,
      "outputs": [
        {
          "output_type": "stream",
          "name": "stdout",
          "text": [
            "Mounted at /content/gdrive\n"
          ]
        }
      ]
    },
    {
      "cell_type": "markdown",
      "metadata": {
        "id": "GwfZUl3CjYtw"
      },
      "source": [
        "# Data visualization"
      ]
    },
    {
      "cell_type": "markdown",
      "metadata": {
        "id": "sq4UINQlgWqd"
      },
      "source": [
        "Path to Train and test datasets"
      ]
    },
    {
      "cell_type": "code",
      "metadata": {
        "id": "OCrIHqLNOsDm"
      },
      "source": [
        "path_to_test_file = \"/content/gdrive/MyDrive/TEST_FILE.txt\"\n",
        "path_to_file = \"/content/gdrive/MyDrive/TRAIN_FILE.TXT\""
      ],
      "execution_count": 3,
      "outputs": []
    },
    {
      "cell_type": "markdown",
      "metadata": {
        "id": "PtQzUdHfg_GD"
      },
      "source": [
        ""
      ]
    },
    {
      "cell_type": "markdown",
      "metadata": {
        "id": "n6JwxGgzgajt"
      },
      "source": [
        "Data loader"
      ]
    },
    {
      "cell_type": "code",
      "metadata": {
        "id": "uVxWlPa8PDXl"
      },
      "source": [
        "def load_data_label(path):\n",
        "    temp_data = []\n",
        "    lines = [line.strip() for line in open(path)]\n",
        "    for idx in range(0, len(lines), 4):\n",
        "        id = lines[idx].split(\"\\t\")[0]\n",
        "        relation = lines[idx + 1]\n",
        "\n",
        "        sentence = lines[idx].split(\"\\t\")[1][1:-1]\n",
        "        sentence = sentence.replace(\"<e1>\", \" _e1_ \").replace(\"</e1>\", \" _/e1_ \")\n",
        "        sentence = sentence.replace(\"<e2>\", \" _e2_ \").replace(\"</e2>\", \" _/e2_ \")\n",
        "        sentence = sentence.replace(\"<e1>\", \"<e1> \").replace(\"</e1>\", \" </e11>\")\n",
        "        sentence = sentence.replace(\"<e2>\", \"<e2> \").replace(\"</e2>\", \" </e22>\")\n",
        "\n",
        "        tokens = nltk.word_tokenize(sentence)\n",
        "        \n",
        "        tokens.remove('_/e1_')\n",
        "        tokens.remove('_/e2_')\n",
        "        \n",
        "        e1 = tokens.index(\"_e1_\")\n",
        "        del tokens[e1]\n",
        "        element1=tokens[e1]\n",
        "        e2 = tokens.index(\"_e2_\")\n",
        "        del tokens[e2]\n",
        "        element2=tokens[e2]\n",
        "        sentence = \" \".join(tokens)\n",
        "        temp_data.append([id, sentence, e1, element1, e2, element2, relation])\n",
        "    df = pd.DataFrame(data=temp_data, columns=[\"id\", \"sentence\", \"e1_position\",\"element1\", \"e2_position\",\"element2\", \"class\"])\n",
        "    #print (df)\n",
        "    labelsMapping = {'Other': 0,'Message-Topic(e1,e2)': 1, 'Message-Topic(e2,e1)': 2,\n",
        "                    'Product-Producer(e1,e2)': 3, 'Product-Producer(e2,e1)': 4,\n",
        "                    'Instrument-Agency(e1,e2)': 5, 'Instrument-Agency(e2,e1)': 6,\n",
        "                    'Entity-Destination(e1,e2)': 7, 'Entity-Destination(e2,e1)': 8,\n",
        "                    'Cause-Effect(e1,e2)': 9, 'Cause-Effect(e2,e1)': 10,\n",
        "                    'Component-Whole(e1,e2)': 11, 'Component-Whole(e2,e1)': 12,\n",
        "                    'Entity-Origin(e1,e2)': 13, 'Entity-Origin(e2,e1)': 14,\n",
        "                    'Member-Collection(e1,e2)': 15, 'Member-Collection(e2,e1)': 16,\n",
        "                    'Content-Container(e1,e2)': 17, 'Content-Container(e2,e1)': 18}\n",
        "    df['tag'] = [labelsMapping[r] for r in df['class']]\n",
        "    #print(df)\n",
        "    x_sentence = df['sentence'].tolist()\n",
        "\n",
        "    #Label Data\n",
        "    y = df['tag']\n",
        "    return df"
      ],
      "execution_count": 4,
      "outputs": []
    },
    {
      "cell_type": "code",
      "metadata": {
        "id": "F8SUHW1PVIk9",
        "colab": {
          "base_uri": "https://localhost:8080/",
          "height": 417
        },
        "outputId": "b861c4e9-1b3f-48f5-b481-3c92277b90d5"
      },
      "source": [
        "df=load_data_label(path_to_file)\n",
        "df_test = load_data_label(path_to_test_file)\n",
        "df"
      ],
      "execution_count": 5,
      "outputs": [
        {
          "output_type": "execute_result",
          "data": {
            "text/html": [
              "<div>\n",
              "<style scoped>\n",
              "    .dataframe tbody tr th:only-of-type {\n",
              "        vertical-align: middle;\n",
              "    }\n",
              "\n",
              "    .dataframe tbody tr th {\n",
              "        vertical-align: top;\n",
              "    }\n",
              "\n",
              "    .dataframe thead th {\n",
              "        text-align: right;\n",
              "    }\n",
              "</style>\n",
              "<table border=\"1\" class=\"dataframe\">\n",
              "  <thead>\n",
              "    <tr style=\"text-align: right;\">\n",
              "      <th></th>\n",
              "      <th>id</th>\n",
              "      <th>sentence</th>\n",
              "      <th>e1_position</th>\n",
              "      <th>element1</th>\n",
              "      <th>e2_position</th>\n",
              "      <th>element2</th>\n",
              "      <th>class</th>\n",
              "      <th>tag</th>\n",
              "    </tr>\n",
              "  </thead>\n",
              "  <tbody>\n",
              "    <tr>\n",
              "      <th>0</th>\n",
              "      <td>1</td>\n",
              "      <td>The system as described above has its greatest...</td>\n",
              "      <td>12</td>\n",
              "      <td>configuration</td>\n",
              "      <td>15</td>\n",
              "      <td>elements</td>\n",
              "      <td>Component-Whole(e2,e1)</td>\n",
              "      <td>12</td>\n",
              "    </tr>\n",
              "    <tr>\n",
              "      <th>1</th>\n",
              "      <td>2</td>\n",
              "      <td>The child was carefully wrapped and bound into...</td>\n",
              "      <td>1</td>\n",
              "      <td>child</td>\n",
              "      <td>9</td>\n",
              "      <td>cradle</td>\n",
              "      <td>Other</td>\n",
              "      <td>0</td>\n",
              "    </tr>\n",
              "    <tr>\n",
              "      <th>2</th>\n",
              "      <td>3</td>\n",
              "      <td>The author of a keygen uses a disassembler to ...</td>\n",
              "      <td>1</td>\n",
              "      <td>author</td>\n",
              "      <td>7</td>\n",
              "      <td>disassembler</td>\n",
              "      <td>Instrument-Agency(e2,e1)</td>\n",
              "      <td>6</td>\n",
              "    </tr>\n",
              "    <tr>\n",
              "      <th>3</th>\n",
              "      <td>4</td>\n",
              "      <td>A misty ridge uprises from the surge .</td>\n",
              "      <td>2</td>\n",
              "      <td>ridge</td>\n",
              "      <td>6</td>\n",
              "      <td>surge</td>\n",
              "      <td>Other</td>\n",
              "      <td>0</td>\n",
              "    </tr>\n",
              "    <tr>\n",
              "      <th>4</th>\n",
              "      <td>5</td>\n",
              "      <td>The student association is the voice of the un...</td>\n",
              "      <td>1</td>\n",
              "      <td>student</td>\n",
              "      <td>2</td>\n",
              "      <td>association</td>\n",
              "      <td>Member-Collection(e1,e2)</td>\n",
              "      <td>15</td>\n",
              "    </tr>\n",
              "    <tr>\n",
              "      <th>...</th>\n",
              "      <td>...</td>\n",
              "      <td>...</td>\n",
              "      <td>...</td>\n",
              "      <td>...</td>\n",
              "      <td>...</td>\n",
              "      <td>...</td>\n",
              "      <td>...</td>\n",
              "      <td>...</td>\n",
              "    </tr>\n",
              "    <tr>\n",
              "      <th>7995</th>\n",
              "      <td>7996</td>\n",
              "      <td>When the notice is sent by fax , the notice is...</td>\n",
              "      <td>2</td>\n",
              "      <td>notice</td>\n",
              "      <td>6</td>\n",
              "      <td>fax</td>\n",
              "      <td>Other</td>\n",
              "      <td>0</td>\n",
              "    </tr>\n",
              "    <tr>\n",
              "      <th>7996</th>\n",
              "      <td>7997</td>\n",
              "      <td>The herbicide is derived from a natural antibi...</td>\n",
              "      <td>1</td>\n",
              "      <td>herbicide</td>\n",
              "      <td>7</td>\n",
              "      <td>antibiotic</td>\n",
              "      <td>Entity-Origin(e1,e2)</td>\n",
              "      <td>13</td>\n",
              "    </tr>\n",
              "    <tr>\n",
              "      <th>7997</th>\n",
              "      <td>7998</td>\n",
              "      <td>To test this , we placed a kitchen match in th...</td>\n",
              "      <td>8</td>\n",
              "      <td>match</td>\n",
              "      <td>11</td>\n",
              "      <td>jar</td>\n",
              "      <td>Entity-Destination(e1,e2)</td>\n",
              "      <td>7</td>\n",
              "    </tr>\n",
              "    <tr>\n",
              "      <th>7998</th>\n",
              "      <td>7999</td>\n",
              "      <td>The farmers and city officials in the region h...</td>\n",
              "      <td>17</td>\n",
              "      <td>farmers</td>\n",
              "      <td>18</td>\n",
              "      <td>market</td>\n",
              "      <td>Other</td>\n",
              "      <td>0</td>\n",
              "    </tr>\n",
              "    <tr>\n",
              "      <th>7999</th>\n",
              "      <td>8000</td>\n",
              "      <td>The surgeon cuts a small hole in the skull and...</td>\n",
              "      <td>1</td>\n",
              "      <td>surgeon</td>\n",
              "      <td>5</td>\n",
              "      <td>hole</td>\n",
              "      <td>Product-Producer(e2,e1)</td>\n",
              "      <td>4</td>\n",
              "    </tr>\n",
              "  </tbody>\n",
              "</table>\n",
              "<p>8000 rows × 8 columns</p>\n",
              "</div>"
            ],
            "text/plain": [
              "        id  ... tag\n",
              "0        1  ...  12\n",
              "1        2  ...   0\n",
              "2        3  ...   6\n",
              "3        4  ...   0\n",
              "4        5  ...  15\n",
              "...    ...  ...  ..\n",
              "7995  7996  ...   0\n",
              "7996  7997  ...  13\n",
              "7997  7998  ...   7\n",
              "7998  7999  ...   0\n",
              "7999  8000  ...   4\n",
              "\n",
              "[8000 rows x 8 columns]"
            ]
          },
          "metadata": {},
          "execution_count": 5
        }
      ]
    },
    {
      "cell_type": "code",
      "metadata": {
        "colab": {
          "base_uri": "https://localhost:8080/",
          "height": 405
        },
        "id": "NhHTputOkCck",
        "outputId": "0edd0288-6214-4b2b-c8d5-05023a5d67ee"
      },
      "source": [
        "df['class'].value_counts()[:27].plot(kind='bar')"
      ],
      "execution_count": 6,
      "outputs": [
        {
          "output_type": "execute_result",
          "data": {
            "text/plain": [
              "<matplotlib.axes._subplots.AxesSubplot at 0x7f2ff152a510>"
            ]
          },
          "metadata": {},
          "execution_count": 6
        },
        {
          "output_type": "display_data",
          "data": {
            "image/png": "[encoded data removed]",
            "text/plain": [
              "<Figure size 432x288 with 1 Axes>"
            ]
          },
          "metadata": {
            "needs_background": "light"
          }
        }
      ]
    },
    {
      "cell_type": "code",
      "metadata": {
        "colab": {
          "base_uri": "https://localhost:8080/",
          "height": 405
        },
        "id": "HdD3wYhjj-KP",
        "outputId": "36800ee5-386a-412d-87a7-d997e1b851b5"
      },
      "source": [
        "df_test['class'].value_counts()[:27].plot(kind='bar')"
      ],
      "execution_count": 7,
      "outputs": [
        {
          "output_type": "execute_result",
          "data": {
            "text/plain": [
              "<matplotlib.axes._subplots.AxesSubplot at 0x7f2ff11b25d0>"
            ]
          },
          "metadata": {},
          "execution_count": 7
        },
        {
          "output_type": "display_data",
          "data": {
            "image/png": "[encoded data removed]",
            "text/plain": [
              "<Figure size 432x288 with 1 Axes>"
            ]
          },
          "metadata": {
            "needs_background": "light"
          }
        }
      ]
    },
    {
      "cell_type": "code",
      "metadata": {
        "id": "qhKJl5oNjeHJ",
        "colab": {
          "base_uri": "https://localhost:8080/",
          "height": 266
        },
        "outputId": "09de1d7a-7964-40a9-df64-c5e709d78b08"
      },
      "source": [
        "df_test['tag'].value_counts()[:27].plot(kind='pie')"
      ],
      "execution_count": 8,
      "outputs": [
        {
          "output_type": "execute_result",
          "data": {
            "text/plain": [
              "<matplotlib.axes._subplots.AxesSubplot at 0x7f2ff0e46450>"
            ]
          },
          "metadata": {},
          "execution_count": 8
        },
        {
          "output_type": "display_data",
          "data": {
            "image/png": "[encoded data removed]",
            "text/plain": [
              "<Figure size 432x288 with 1 Axes>"
            ]
          },
          "metadata": {}
        }
      ]
    },
    {
      "cell_type": "code",
      "metadata": {
        "colab": {
          "base_uri": "https://localhost:8080/",
          "height": 405
        },
        "id": "lRftSxPPF0_l",
        "outputId": "b1f1f040-dc21-47aa-cab6-6ef2acb346c0"
      },
      "source": [
        "df['class'].value_counts().sort_index().plot.bar(color = {\"r\",\"g\",\"b\",\"y\"})"
      ],
      "execution_count": 9,
      "outputs": [
        {
          "output_type": "execute_result",
          "data": {
            "text/plain": [
              "<matplotlib.axes._subplots.AxesSubplot at 0x7f2ff05d6b50>"
            ]
          },
          "metadata": {},
          "execution_count": 9
        },
        {
          "output_type": "display_data",
          "data": {
            "image/png": "[encoded data removed]",
            "text/plain": [
              "<Figure size 432x288 with 1 Axes>"
            ]
          },
          "metadata": {
            "needs_background": "light"
          }
        }
      ]
    },
    {
      "cell_type": "markdown",
      "metadata": {
        "id": "DWfQBhYVglCJ"
      },
      "source": [
        "# Preprocesssing"
      ]
    },
    {
      "cell_type": "markdown",
      "metadata": {
        "id": "iXGrDKM8gehl"
      },
      "source": [
        "Data preprocessor"
      ]
    },
    {
      "cell_type": "code",
      "metadata": {
        "id": "lRbUKgWGPl96"
      },
      "source": [
        "def preprocessor(sentence):\n",
        "    \n",
        "    sentence = re.sub(r\"(@[A-Za-z0-9]+)|([^0-9A-Za-z \\t])|(\\w+:\\/\\/\\S+)|^rt|http.+?\", \"\", sentence)\n",
        "    sentence = sentence.lower()\n",
        "    sentence = re.sub(r'\\d+','', sentence)\n",
        "    sentence = sentence.replace(\"user\", \"\")\n",
        "    return  sentence"
      ],
      "execution_count": 10,
      "outputs": []
    },
    {
      "cell_type": "code",
      "metadata": {
        "id": "fT77qBfQmaj4"
      },
      "source": [
        "def clean_text(df):\n",
        "   \n",
        "    train_cleaned = df['sentence'].apply(preprocessor)\n",
        "    df['sentence'] = train_cleaned.apply(lambda x: ' '.join([w for w in x.split() if len(w)>2]))\n",
        "  \n",
        "    return df    "
      ],
      "execution_count": 11,
      "outputs": []
    },
    {
      "cell_type": "code",
      "metadata": {
        "id": "FE0DD2MpQNuy"
      },
      "source": [
        "#cleaning the text\n",
        "df['sentence'] = df['sentence'] + \" \" + df['element1'] + \" \" + df['element2']\n",
        "df_test['sentence'] = df_test['sentence'] + \" \" + df_test['element1'] + \" \" + df_test['element2']\n",
        "train_cleaned = clean_text(df)\n",
        "test_cleaned = clean_text(df_test)"
      ],
      "execution_count": 12,
      "outputs": []
    },
    {
      "cell_type": "markdown",
      "metadata": {
        "id": "QXucFMuugzu7"
      },
      "source": [
        "GPU tracker"
      ]
    },
    {
      "cell_type": "code",
      "metadata": {
        "colab": {
          "base_uri": "https://localhost:8080/"
        },
        "id": "532Fb4tz3BMX",
        "outputId": "e8a369b4-d961-408c-ec71-bb88fc79a97a"
      },
      "source": [
        "import torch\n",
        "\n",
        "if torch.cuda.is_available():       \n",
        "    device = torch.device(\"cuda\")\n",
        "    print(f'There are {torch.cuda.device_count()} GPU(s) available.')\n",
        "    print('Device name:', torch.cuda.get_device_name(0))\n",
        "\n",
        "else:\n",
        "    print('No GPU available, using the CPU instead.')\n",
        "    device = torch.device(\"cpu\")"
      ],
      "execution_count": 13,
      "outputs": [
        {
          "output_type": "stream",
          "name": "stdout",
          "text": [
            "There are 1 GPU(s) available.\n",
            "Device name: Tesla K80\n"
          ]
        }
      ]
    },
    {
      "cell_type": "markdown",
      "metadata": {
        "id": "zXm06l8OhCET"
      },
      "source": [
        "# Install Transformers"
      ]
    },
    {
      "cell_type": "code",
      "metadata": {
        "colab": {
          "base_uri": "https://localhost:8080/"
        },
        "id": "4hMLlf28SnDD",
        "outputId": "68a5f275-7c98-47b7-d843-54223739e9a6"
      },
      "source": [
        "pip install transformers"
      ],
      "execution_count": 14,
      "outputs": [
        {
          "output_type": "stream",
          "name": "stdout",
          "text": [
            "Collecting transformers\n",
            "  Downloading transformers-4.9.2-py3-none-any.whl (2.6 MB)\n",
            "\u001b[K     |████████████████████████████████| 2.6 MB 5.4 MB/s \n",
            "\u001b[?25hRequirement already satisfied: importlib-metadata in /usr/local/lib/python3.7/dist-packages (from transformers) (4.6.4)\n",
            "Collecting huggingface-hub==0.0.12\n",
            "  Downloading huggingface_hub-0.0.12-py3-none-any.whl (37 kB)\n",
            "Requirement already satisfied: requests in /usr/local/lib/python3.7/dist-packages (from transformers) (2.23.0)\n",
            "Requirement already satisfied: tqdm>=4.27 in /usr/local/lib/python3.7/dist-packages (from transformers) (4.62.0)\n",
            "Requirement already satisfied: filelock in /usr/local/lib/python3.7/dist-packages (from transformers) (3.0.12)\n",
            "Requirement already satisfied: packaging in /usr/local/lib/python3.7/dist-packages (from transformers) (21.0)\n",
            "Collecting pyyaml>=5.1\n",
            "  Downloading PyYAML-5.4.1-cp37-cp37m-manylinux1_x86_64.whl (636 kB)\n",
            "\u001b[K     |████████████████████████████████| 636 kB 47.7 MB/s \n",
            "\u001b[?25hRequirement already satisfied: regex!=2019.12.17 in /usr/local/lib/python3.7/dist-packages (from transformers) (2019.12.20)\n",
            "Requirement already satisfied: numpy>=1.17 in /usr/local/lib/python3.7/dist-packages (from transformers) (1.19.5)\n",
            "Collecting sacremoses\n",
            "  Downloading sacremoses-0.0.45-py3-none-any.whl (895 kB)\n",
            "\u001b[K     |████████████████████████████████| 895 kB 45.3 MB/s \n",
            "\u001b[?25hCollecting tokenizers<0.11,>=0.10.1\n",
            "  Downloading tokenizers-0.10.3-cp37-cp37m-manylinux_2_5_x86_64.manylinux1_x86_64.manylinux_2_12_x86_64.manylinux2010_x86_64.whl (3.3 MB)\n",
            "\u001b[K     |████████████████████████████████| 3.3 MB 35.5 MB/s \n",
            "\u001b[?25hRequirement already satisfied: typing-extensions in /usr/local/lib/python3.7/dist-packages (from huggingface-hub==0.0.12->transformers) (3.7.4.3)\n",
            "Requirement already satisfied: pyparsing>=2.0.2 in /usr/local/lib/python3.7/dist-packages (from packaging->transformers) (2.4.7)\n",
            "Requirement already satisfied: zipp>=0.5 in /usr/local/lib/python3.7/dist-packages (from importlib-metadata->transformers) (3.5.0)\n",
            "Requirement already satisfied: chardet<4,>=3.0.2 in /usr/local/lib/python3.7/dist-packages (from requests->transformers) (3.0.4)\n",
            "Requirement already satisfied: certifi>=2017.4.17 in /usr/local/lib/python3.7/dist-packages (from requests->transformers) (2021.5.30)\n",
            "Requirement already satisfied: urllib3!=1.25.0,!=1.25.1,<1.26,>=1.21.1 in /usr/local/lib/python3.7/dist-packages (from requests->transformers) (1.24.3)\n",
            "Requirement already satisfied: idna<3,>=2.5 in /usr/local/lib/python3.7/dist-packages (from requests->transformers) (2.10)\n",
            "Requirement already satisfied: click in /usr/local/lib/python3.7/dist-packages (from sacremoses->transformers) (7.1.2)\n",
            "Requirement already satisfied: six in /usr/local/lib/python3.7/dist-packages (from sacremoses->transformers) (1.15.0)\n",
            "Requirement already satisfied: joblib in /usr/local/lib/python3.7/dist-packages (from sacremoses->transformers) (1.0.1)\n",
            "Installing collected packages: tokenizers, sacremoses, pyyaml, huggingface-hub, transformers\n",
            "  Attempting uninstall: pyyaml\n",
            "    Found existing installation: PyYAML 3.13\n",
            "    Uninstalling PyYAML-3.13:\n",
            "      Successfully uninstalled PyYAML-3.13\n",
            "Successfully installed huggingface-hub-0.0.12 pyyaml-5.4.1 sacremoses-0.0.45 tokenizers-0.10.3 transformers-4.9.2\n"
          ]
        }
      ]
    },
    {
      "cell_type": "markdown",
      "metadata": {
        "id": "F2Ujto0WhMTw"
      },
      "source": [
        "# Bert Transformer"
      ]
    },
    {
      "cell_type": "code",
      "metadata": {
        "id": "vwSfK36PStit",
        "colab": {
          "base_uri": "https://localhost:8080/",
          "height": 145,
          "referenced_widgets": [
            "eba664f8c1524bac9584035c29feb543",
            "6a006ad84fd6473f800016d983b5b946",
            "8ee970a2c750409692c89305c3625b78",
            "183cd31635684b64946992514e6b17c1",
            "1a0c076f1c9c404f8f628ed12ba0c401",
            "af15bc8399d743e6835c84d32cca2ce6",
            "7b66d49a0e984e5f8a1c4ab680e94427",
            "c819cf0638c84ee3b6a786e9f6f25e0a",
            "3a46d3a00efc46ed954af9591a344bac",
            "579b5e53f7a645ae8e2c80e57a21d583",
            "1d327a5851b94eac8bb33f99c75c95e5",
            "c9940af86dee497b9d22a2b7bbbce2d0",
            "841b173ecf9a48aa99e7dcfc1476286a",
            "6efd363c434a4ca182a36ae91066458f",
            "49ce758adfa24ea69be5d58982255506",
            "b32df77e95d347f181cc068e62e13e2e",
            "8a12cf1c95a84b929c5fc7344627462b",
            "f9f81a702c6e420885e4740860532854",
            "79f251179f3e41ad9ba50b32572c2d8d",
            "d1a22da1e8104d0b95be0a08edd8303d",
            "f3702c6355074890b5175ba34620597e",
            "963fe1d203f040a5b5128869f4f478b7",
            "8bb2ee760cd64be2b593dbf66078698a",
            "af64fea50b4f468dad41fd0f94ea962e",
            "85b95224dcdd4e6baf73ce17e1be361e",
            "bda201aecb0a4b218d5b0dfc1f0c00fc",
            "89321a0221cf48a794728d87654a4d4d",
            "b488c88d9fce4f09a706f6c9304200d2",
            "7604d7ec67934e2399a2347564509755",
            "d464c2391a564006a35f3215c0bf0788",
            "734e9825fced47aa80c7d15d76e16bf1",
            "17e2351777ad4deba1db657167573705",
            "9886c27e35c548ec8832d188af9993dd",
            "8720e5d931604f5a86733741436db403",
            "5a15b734e44a4e50a501aee5575f382c",
            "53f4087e567142fda2865188e8a4eee8",
            "723436d788954d6db74078100a62451a",
            "fb5166d7ac3d47b38e3aa08f5abb894e",
            "6978dfaad6e245b0ad43fe6caabd331a",
            "0b1c3eb2ecef471ba35133c28157fbb9",
            "7a3c9c4de5ac481b9888127cc522a91e",
            "ea680bb705b64c12ab19fcafd5a619b2",
            "5165674c70b84f60b19c913fdba61479",
            "51e42c5c839f4cc89457ff1429a8d19d"
          ]
        },
        "outputId": "8ea1dd1a-8a3c-4854-ca9e-48e3d36590f0"
      },
      "source": [
        "from transformers import BertTokenizer\n",
        "\n",
        "# loading BERT tokenizer\n",
        "tokenizer = BertTokenizer.from_pretrained('bert-base-uncased')\n",
        "\n",
        "#  tokenizing set of texts\n",
        "def Input_embeddings(data,length):\n",
        "  \n",
        "    input_ids = []\n",
        "    attention_masks = []\n",
        "\n",
        "    for sentence in data:\n",
        "   \n",
        "        encoded_sent = tokenizer.encode_plus(\n",
        "            text=sentence,  \n",
        "            add_special_tokens=True,        \n",
        "            max_length=length,              \n",
        "            pad_to_max_length=True,                  \n",
        "            return_attention_mask=True      \n",
        "            )\n",
        "        input_ids.append(encoded_sent.get('input_ids'))\n",
        "        attention_masks.append(encoded_sent.get('attention_mask'))\n",
        "\n",
        "    input_ids = torch.tensor(input_ids)\n",
        "    attention_masks = torch.tensor(attention_masks)\n",
        "\n",
        "    return input_ids, attention_masks"
      ],
      "execution_count": 15,
      "outputs": [
        {
          "output_type": "display_data",
          "data": {
            "application/vnd.jupyter.widget-view+json": {
              "model_id": "eba664f8c1524bac9584035c29feb543",
              "version_minor": 0,
              "version_major": 2
            },
            "text/plain": [
              "Downloading:   0%|          | 0.00/232k [00:00<?, ?B/s]"
            ]
          },
          "metadata": {}
        },
        {
          "output_type": "display_data",
          "data": {
            "application/vnd.jupyter.widget-view+json": {
              "model_id": "c9940af86dee497b9d22a2b7bbbce2d0",
              "version_minor": 0,
              "version_major": 2
            },
            "text/plain": [
              "Downloading:   0%|          | 0.00/28.0 [00:00<?, ?B/s]"
            ]
          },
          "metadata": {}
        },
        {
          "output_type": "display_data",
          "data": {
            "application/vnd.jupyter.widget-view+json": {
              "model_id": "8bb2ee760cd64be2b593dbf66078698a",
              "version_minor": 0,
              "version_major": 2
            },
            "text/plain": [
              "Downloading:   0%|          | 0.00/466k [00:00<?, ?B/s]"
            ]
          },
          "metadata": {}
        },
        {
          "output_type": "display_data",
          "data": {
            "application/vnd.jupyter.widget-view+json": {
              "model_id": "8720e5d931604f5a86733741436db403",
              "version_minor": 0,
              "version_major": 2
            },
            "text/plain": [
              "Downloading:   0%|          | 0.00/570 [00:00<?, ?B/s]"
            ]
          },
          "metadata": {}
        }
      ]
    },
    {
      "cell_type": "markdown",
      "metadata": {
        "id": "l-nIOzE9hbkq"
      },
      "source": [
        "Encoding and tokenizing the sencentences"
      ]
    },
    {
      "cell_type": "code",
      "metadata": {
        "colab": {
          "base_uri": "https://localhost:8080/"
        },
        "id": "WUsNXFGITv8D",
        "outputId": "fb65bffb-9c25-40ab-9447-4679ef39288e"
      },
      "source": [
        "sentences = np.concatenate([train_cleaned.sentence.values, test_cleaned.sentence.values])\n",
        "sentences_encoded = [tokenizer.encode(sent, add_special_tokens=True, truncation=True) for sent in sentences]\n",
        "max_length = max([len(sent) for sent in sentences_encoded])\n",
        "print('Max length: ', max_length)"
      ],
      "execution_count": 16,
      "outputs": [
        {
          "output_type": "stream",
          "name": "stdout",
          "text": [
            "Max length:  99\n"
          ]
        }
      ]
    },
    {
      "cell_type": "markdown",
      "metadata": {
        "id": "6sWo505DhsI_"
      },
      "source": [
        "Sample token id for the original sentences"
      ]
    },
    {
      "cell_type": "code",
      "metadata": {
        "colab": {
          "base_uri": "https://localhost:8080/"
        },
        "id": "s6TJiqKhUH0E",
        "outputId": "4f1fee8f-2d13-4810-babf-f2e7e7024c23"
      },
      "source": [
        "data = [train_cleaned.sentence[0]]\n",
        "token_ids = list(Input_embeddings(data,max_length)[0].squeeze().numpy())\n",
        "print('Original: ', train_cleaned.sentence[0])\n",
        "print('Token IDs: ', token_ids)"
      ],
      "execution_count": 17,
      "outputs": [
        {
          "output_type": "stream",
          "name": "stderr",
          "text": [
            "Truncation was not explicitly activated but `max_length` is provided a specific value, please use `truncation=True` to explicitly truncate examples to max length. Defaulting to 'longest_first' truncation strategy. If you encode pairs of sequences (GLUE-style) with the tokenizer you can select this strategy more precisely by providing a specific strategy to `truncation`.\n"
          ]
        },
        {
          "output_type": "stream",
          "name": "stdout",
          "text": [
            "Original:  the system described above has its greatest application arrayed configuration antenna elements configuration elements\n",
            "Token IDs:  [101, 1996, 2291, 2649, 2682, 2038, 2049, 4602, 4646, 9140, 2098, 9563, 13438, 3787, 9563, 3787, 102, 0, 0, 0, 0, 0, 0, 0, 0, 0, 0, 0, 0, 0, 0, 0, 0, 0, 0, 0, 0, 0, 0, 0, 0, 0, 0, 0, 0, 0, 0, 0, 0, 0, 0, 0, 0, 0, 0, 0, 0, 0, 0, 0, 0, 0, 0, 0, 0, 0, 0, 0, 0, 0, 0, 0, 0, 0, 0, 0, 0, 0, 0, 0, 0, 0, 0, 0, 0, 0, 0, 0, 0, 0, 0, 0, 0, 0, 0, 0, 0, 0, 0]\n"
          ]
        }
      ]
    },
    {
      "cell_type": "markdown",
      "metadata": {
        "id": "X2Y99lu0h8Tx"
      },
      "source": [
        "Train and validation inputs for the Bert classifier"
      ]
    },
    {
      "cell_type": "code",
      "metadata": {
        "id": "XXl1k9wXUObP"
      },
      "source": [
        "train_inputs, train_masks = Input_embeddings(train_cleaned.sentence.values,max_length)\n",
        "val_inputs, val_masks = Input_embeddings(test_cleaned.sentence.values,max_length)"
      ],
      "execution_count": 18,
      "outputs": []
    },
    {
      "cell_type": "code",
      "metadata": {
        "id": "mW_VJRN9UhVH"
      },
      "source": [
        "from torch.utils.data import TensorDataset, DataLoader, RandomSampler, SequentialSampler\n",
        "\n",
        "train_labels = torch.tensor(train_cleaned['tag'])\n",
        "val_labels = torch.tensor(test_cleaned['tag'])\n",
        "\n",
        "batch_size = 64\n",
        "\n",
        "train_data = TensorDataset(train_inputs, train_masks, train_labels)\n",
        "train_sampler = RandomSampler(train_data)\n",
        "train_dataloader = DataLoader(train_data, sampler=train_sampler, batch_size=batch_size)\n",
        "\n",
        "val_data = TensorDataset(val_inputs, val_masks, val_labels)\n",
        "val_sampler = SequentialSampler(val_data)\n",
        "val_dataloader = DataLoader(val_data, sampler=val_sampler, batch_size=batch_size)"
      ],
      "execution_count": 19,
      "outputs": []
    },
    {
      "cell_type": "code",
      "metadata": {
        "colab": {
          "base_uri": "https://localhost:8080/"
        },
        "id": "OPQGPIn1UrlL",
        "outputId": "97eb9a11-52bd-4fcb-d1ff-807c6db85a42"
      },
      "source": [
        "# this piece of code is refered from https://skimai.com/fine-tuning-bert-for-sentiment-analysis/\n",
        "%%time\n",
        "import torch.nn as nn\n",
        "from transformers import BertModel\n",
        "\n",
        "class BertClassifier(nn.Module):\n",
        "\n",
        "    def __init__(self, freeze_bert=True):\n",
        "\n",
        "        super(BertClassifier, self).__init__()\n",
        "        inlet, outlet, b_out  = 768, 50, 19\n",
        "\n",
        "        self.bert = BertModel.from_pretrained('bert-base-uncased')\n",
        "\n",
        "        self.classifier = nn.Sequential(\n",
        "            #nn.Dropout(0.1),\n",
        "            nn.Linear(inlet, outlet),\n",
        "            nn.ReLU6(),\n",
        "            nn.Linear(outlet, b_out)\n",
        "        )\n",
        "#This code is used for fine tuning purposes\n",
        "        # if freeze_bert:\n",
        "        #     for param in self.bert.parameters():\n",
        "        #         param.requires_grad = True\n",
        "        for layer in self.bert.encoder.layer[:-6]:\n",
        "          for param in layer.parameters():\n",
        "            param.requires_grad = False\n",
        "\n",
        "    def forward(self, input_ids, attention_mask):\n",
        "\n",
        "        outputs = self.bert(input_ids=input_ids,\n",
        "                            attention_mask=attention_mask)\n",
        "        \n",
        "        last_hidden_state_cls = outputs[0][:, 0, :]\n",
        "\n",
        "        logits = self.classifier(last_hidden_state_cls)\n",
        "\n",
        "        return logits"
      ],
      "execution_count": 20,
      "outputs": [
        {
          "output_type": "stream",
          "name": "stdout",
          "text": [
            "CPU times: user 7.18 ms, sys: 921 µs, total: 8.1 ms\n",
            "Wall time: 7.94 ms\n"
          ]
        }
      ]
    },
    {
      "cell_type": "markdown",
      "metadata": {
        "id": "Wp_BDJHliV_Q"
      },
      "source": [
        "# Classifier"
      ]
    },
    {
      "cell_type": "code",
      "metadata": {
        "id": "SYfljOsxUvw_"
      },
      "source": [
        "from transformers import AdamW, get_linear_schedule_with_warmup\n",
        "\n",
        "def model_initialize(epochs=4):\n",
        "\n",
        "    bert_classifier = BertClassifier()\n",
        "\n",
        "    bert_classifier.to(device)\n",
        "\n",
        "    optimizer = AdamW(bert_classifier.parameters(),\n",
        "                      lr=2e-4,    \n",
        "                      eps=1e-8   \n",
        "                      )\n",
        "\n",
        "    total_steps = len(train_dataloader) * epochs\n",
        "\n",
        "    scheduler = get_linear_schedule_with_warmup(optimizer,\n",
        "                                                num_warmup_steps=0, \n",
        "                                                num_training_steps=total_steps)\n",
        "    return bert_classifier, optimizer, scheduler"
      ],
      "execution_count": 21,
      "outputs": []
    },
    {
      "cell_type": "markdown",
      "metadata": {
        "id": "8CvVbTaLibWU"
      },
      "source": [
        "# Experimental setup and Evaluation"
      ]
    },
    {
      "cell_type": "code",
      "metadata": {
        "id": "dljM7g6nmakN"
      },
      "source": [
        "import random\n",
        "import time\n",
        "from sklearn.metrics import f1_score\n",
        "\n",
        "loss_fn = nn.CrossEntropyLoss()\n",
        "\n",
        "def seed_set(seed_value=42):\n",
        "\n",
        "    random.seed(seed_value)\n",
        "    np.random.seed(seed_value)\n",
        "    torch.manual_seed(seed_value)\n",
        "    torch.cuda.manual_seed_all(seed_value)\n",
        "\n",
        "def train(model, train_dataloader, val_dataloader=None, epochs=4, evaluation=False):\n",
        "\n",
        "    print(\"Start training...\\n\")\n",
        "    for epoch_i in range(epochs):\n",
        "        #header of the result table\n",
        "        print(f\"{'Epoch':^7} | {'Batch':^7} | {'Train Loss':^12} | {'Val Loss':^10} | {'Val F1_score':^9} | {'Elapsed':^9}\")\n",
        "        print(\"-\"*70)\n",
        "  #measuring elapsed time of each epoch\n",
        "        t0_epoch, t0_batch = time.time(), time.time()\n",
        "       #Reseting the  variables at the beginning of every epoch\n",
        "        total_loss, batch_loss, batch_counts = 0, 0, 0\n",
        "       #training mode\n",
        "        model.train()      \n",
        "        for step, batch in enumerate(train_dataloader):\n",
        "            batch_counts +=1\n",
        "            #Loading batch to GPU\n",
        "            b_input_ids, b_attn_mask, b_labels = tuple(t.to(device) for t in batch)\n",
        "\n",
        "           # Zero out any previously calculated gradients\n",
        "            model.zero_grad()\n",
        "\n",
        "            #Performing a forward pass\n",
        "            logits = model(b_input_ids, b_attn_mask)\n",
        "\n",
        "           # Computing loss\n",
        "            loss = loss_fn(logits, b_labels)\n",
        "            batch_loss += loss.item()\n",
        "            total_loss += loss.item()\n",
        "\n",
        "             # Performing a backward pass\n",
        "            loss.backward()\n",
        "\n",
        "            #to prevent \"exploding gradients\"\n",
        "            torch.nn.utils.clip_grad_norm_(model.parameters(), 1.0)\n",
        "\n",
        "            # Updating parameters and the learning rate\n",
        "            optimizer.step()\n",
        "            scheduler.step()\n",
        "\n",
        "            \n",
        "            if (step % 20 == 0 and step != 0) or (step == len(train_dataloader) - 1):\n",
        "                \n",
        "                time_elapsed = time.time() - t0_batch\n",
        "\n",
        "                # Printing training results\n",
        "                print(f\"{epoch_i + 1:^7} | {step:^7} | {batch_loss / batch_counts:^12.6f} | {'-':^10} | {'-':^9} | {time_elapsed:^9.2f}\")\n",
        "\n",
        "  \n",
        "                batch_loss, batch_counts = 0, 0\n",
        "                t0_batch = time.time()\n",
        "\n",
        "      \n",
        "        avg_train_loss = total_loss / len(train_dataloader)\n",
        "\n",
        "        print(\"-\"*70)\n",
        "        if evaluation == True:\n",
        "            val_loss, val_f1score = evaluate(model, val_dataloader)\n",
        "            time_elapsed = time.time() - t0_epoch\n",
        "            print(f\"{epoch_i + 1:^7} | {'-':^7} | {avg_train_loss:^12.6f} | {val_loss:^10.6f} | {val_f1score:^9.2f} | {time_elapsed:^9.2f}\")\n",
        "            print(\"-\"*70)\n",
        "        print(\"\\n\")\n",
        "    \n",
        "    print(\"Training complete!\")\n",
        "\n",
        "\n",
        "def evaluate(model, val_dataloader):  \n",
        "    model.eval()\n",
        "    val_f1score = []\n",
        "    val_loss = []\n",
        "    for batch in val_dataloader:\n",
        "        b_input_ids, b_attn_mask, b_labels = tuple(t.to(device) for t in batch)\n",
        "        with torch.no_grad():\n",
        "            logits = model(b_input_ids, b_attn_mask)      \n",
        "        loss = loss_fn(logits, b_labels)\n",
        "        val_loss.append(loss.item())      \n",
        "        preds = torch.argmax(logits, dim=1).flatten()       \n",
        "        # accuracy = (preds == b_labels).cpu().numpy().mean() * 100\n",
        "        f1score = f1_score(b_labels.tolist(),preds.tolist(),average = 'macro')\n",
        "        val_f1score.append(f1score)\n",
        "\n",
        "\n",
        "    val_loss = np.mean(val_loss)\n",
        "    val_f1score = np.mean(val_f1score)\n",
        "\n",
        "    return val_loss, val_f1score"
      ],
      "execution_count": 22,
      "outputs": []
    },
    {
      "cell_type": "code",
      "metadata": {
        "colab": {
          "base_uri": "https://localhost:8080/",
          "height": 1000,
          "referenced_widgets": [
            "af3c4cf4a9be40879cf7c270622e295b",
            "ed1f655c6d7e4a13afb5568faa5cb7c8",
            "19601c7df2d849629d1410021356f330",
            "d527b26a4f9145be9675bdf3c84935b2",
            "99b173bc74c049afa693e38e3e1f8a3d",
            "363d0847f0354a498610c40d3e9e5cc4",
            "51ebfee7bb194bf5abb474ea3e478a7b",
            "d1800703b6734fd69d8a340291ba93a4",
            "d74dfeab908d4088b41a5e13a2cb3177",
            "6e01ef58209d421cb64f9bb65a629514",
            "846aafe839204de7982dac9a2a40861e"
          ]
        },
        "id": "VO10-iXWmakO",
        "scrolled": true,
        "outputId": "413b4851-7873-45f7-a97c-5bb3e7e5a6cd"
      },
      "source": [
        "seed_set(45)    # seed for reproducibility\n",
        "bert_classifier, optimizer, scheduler = model_initialize(epochs=4)\n",
        "train(bert_classifier, train_dataloader, val_dataloader, epochs=5, evaluation=True)"
      ],
      "execution_count": 23,
      "outputs": [
        {
          "output_type": "display_data",
          "data": {
            "application/vnd.jupyter.widget-view+json": {
              "model_id": "af3c4cf4a9be40879cf7c270622e295b",
              "version_minor": 0,
              "version_major": 2
            },
            "text/plain": [
              "Downloading:   0%|          | 0.00/440M [00:00<?, ?B/s]"
            ]
          },
          "metadata": {}
        },
        {
          "output_type": "stream",
          "name": "stderr",
          "text": [
            "Some weights of the model checkpoint at bert-base-uncased were not used when initializing BertModel: ['cls.seq_relationship.weight', 'cls.predictions.decoder.weight', 'cls.seq_relationship.bias', 'cls.predictions.transform.dense.bias', 'cls.predictions.transform.LayerNorm.bias', 'cls.predictions.bias', 'cls.predictions.transform.LayerNorm.weight', 'cls.predictions.transform.dense.weight']\n",
            "- This IS expected if you are initializing BertModel from the checkpoint of a model trained on another task or with another architecture (e.g. initializing a BertForSequenceClassification model from a BertForPreTraining model).\n",
            "- This IS NOT expected if you are initializing BertModel from the checkpoint of a model that you expect to be exactly identical (initializing a BertForSequenceClassification model from a BertForSequenceClassification model).\n"
          ]
        },
        {
          "output_type": "stream",
          "name": "stdout",
          "text": [
            "Start training...\n",
            "\n",
            " Epoch  |  Batch  |  Train Loss  |  Val Loss  | Val F1_score |  Elapsed \n",
            "----------------------------------------------------------------------\n",
            "   1    |   20    |   2.649142   |     -      |     -     |   34.20  \n",
            "   1    |   40    |   2.026215   |     -      |     -     |   32.95  \n",
            "   1    |   60    |   1.615663   |     -      |     -     |   32.95  \n",
            "   1    |   80    |   1.366890   |     -      |     -     |   32.90  \n",
            "   1    |   100   |   1.230829   |     -      |     -     |   32.87  \n",
            "   1    |   120   |   1.092760   |     -      |     -     |   32.80  \n",
            "   1    |   124   |   0.987648   |     -      |     -     |   6.57   \n",
            "----------------------------------------------------------------------\n",
            "   1    |    -    |   1.649838   |  0.946946  |   0.65    |  236.33  \n",
            "----------------------------------------------------------------------\n",
            "\n",
            "\n",
            " Epoch  |  Batch  |  Train Loss  |  Val Loss  | Val F1_score |  Elapsed \n",
            "----------------------------------------------------------------------\n",
            "   2    |   20    |   0.787045   |     -      |     -     |   34.49  \n",
            "   2    |   40    |   0.725260   |     -      |     -     |   32.86  \n",
            "   2    |   60    |   0.716647   |     -      |     -     |   32.81  \n",
            "   2    |   80    |   0.649132   |     -      |     -     |   32.82  \n",
            "   2    |   100   |   0.657662   |     -      |     -     |   32.82  \n",
            "   2    |   120   |   0.581637   |     -      |     -     |   32.83  \n",
            "   2    |   124   |   0.489296   |     -      |     -     |   6.57   \n",
            "----------------------------------------------------------------------\n",
            "   2    |    -    |   0.680735   |  0.735689  |   0.76    |  236.30  \n",
            "----------------------------------------------------------------------\n",
            "\n",
            "\n",
            " Epoch  |  Batch  |  Train Loss  |  Val Loss  | Val F1_score |  Elapsed \n",
            "----------------------------------------------------------------------\n",
            "   3    |   20    |   0.365627   |     -      |     -     |   34.49  \n",
            "   3    |   40    |   0.311446   |     -      |     -     |   32.87  \n",
            "   3    |   60    |   0.340552   |     -      |     -     |   32.82  \n",
            "   3    |   80    |   0.322390   |     -      |     -     |   32.85  \n",
            "   3    |   100   |   0.320765   |     -      |     -     |   32.84  \n",
            "   3    |   120   |   0.340598   |     -      |     -     |   32.84  \n",
            "   3    |   124   |   0.349626   |     -      |     -     |   6.56   \n",
            "----------------------------------------------------------------------\n",
            "   3    |    -    |   0.334334   |  0.731346  |   0.77    |  236.31  \n",
            "----------------------------------------------------------------------\n",
            "\n",
            "\n",
            " Epoch  |  Batch  |  Train Loss  |  Val Loss  | Val F1_score |  Elapsed \n",
            "----------------------------------------------------------------------\n",
            "   4    |   20    |   0.175400   |     -      |     -     |   34.51  \n",
            "   4    |   40    |   0.162373   |     -      |     -     |   32.82  \n",
            "   4    |   60    |   0.174340   |     -      |     -     |   32.84  \n",
            "   4    |   80    |   0.173153   |     -      |     -     |   32.83  \n",
            "   4    |   100   |   0.161256   |     -      |     -     |   32.82  \n",
            "   4    |   120   |   0.164621   |     -      |     -     |   32.82  \n",
            "   4    |   124   |   0.130549   |     -      |     -     |   6.55   \n",
            "----------------------------------------------------------------------\n",
            "   4    |    -    |   0.167364   |  0.726368  |   0.79    |  236.27  \n",
            "----------------------------------------------------------------------\n",
            "\n",
            "\n",
            " Epoch  |  Batch  |  Train Loss  |  Val Loss  | Val F1_score |  Elapsed \n",
            "----------------------------------------------------------------------\n",
            "   5    |   20    |   0.130203   |     -      |     -     |   34.44  \n",
            "   5    |   40    |   0.126130   |     -      |     -     |   32.86  \n",
            "   5    |   60    |   0.098917   |     -      |     -     |   32.80  \n",
            "   5    |   80    |   0.126414   |     -      |     -     |   32.83  \n",
            "   5    |   100   |   0.124233   |     -      |     -     |   32.80  \n",
            "   5    |   120   |   0.104848   |     -      |     -     |   32.81  \n",
            "   5    |   124   |   0.131026   |     -      |     -     |   6.56   \n",
            "----------------------------------------------------------------------\n",
            "   5    |    -    |   0.118954   |  0.726368  |   0.79    |  236.15  \n",
            "----------------------------------------------------------------------\n",
            "\n",
            "\n",
            "Training complete!\n"
          ]
        }
      ]
    },
    {
      "cell_type": "markdown",
      "metadata": {
        "id": "w4pWE3iK35U-"
      },
      "source": [
        "# Naive Bayes and svm "
      ]
    },
    {
      "cell_type": "code",
      "metadata": {
        "id": "HXaYotmEXRJX"
      },
      "source": [
        "%matplotlib inline\n",
        "%config InlineBackend.figure_format = 'retina'\n",
        "\n",
        "import numpy as np\n",
        "import pandas as pd\n",
        "from bs4 import BeautifulSoup\n",
        "import matplotlib.pyplot as plt\n",
        "import seaborn as sns\n",
        "\n",
        "import nltk\n",
        "from nltk.corpus import stopwords\n",
        "from nltk.stem import SnowballStemmer\n",
        "from nltk.tokenize import TweetTokenizer\n",
        "\n",
        "from sklearn.feature_extraction.text import CountVectorizer, TfidfTransformer\n",
        "from sklearn.linear_model import LogisticRegression\n",
        "from sklearn.svm import SVC\n",
        "from sklearn.model_selection import train_test_split, StratifiedKFold, cross_val_score\n",
        "from sklearn.pipeline import make_pipeline, Pipeline\n",
        "from sklearn.model_selection import GridSearchCV\n",
        "from sklearn.metrics import make_scorer, accuracy_score, f1_score\n",
        "from sklearn.metrics import roc_curve, auc\n",
        "from sklearn.metrics import confusion_matrix, roc_auc_score, recall_score, precision_score"
      ],
      "execution_count": 24,
      "outputs": []
    },
    {
      "cell_type": "code",
      "metadata": {
        "colab": {
          "base_uri": "https://localhost:8080/"
        },
        "id": "F8NLEGqM-knv",
        "outputId": "2d209b19-376c-4cf2-9900-9589b1029170"
      },
      "source": [
        "import random\n",
        "from sklearn.linear_model import SGDClassifier\n",
        "from sklearn.naive_bayes import MultinomialNB\n",
        "from sklearn.model_selection import GridSearchCV\n",
        "\n",
        "\n",
        "\n",
        "datastr=df['sentence'].astype(str)\n",
        "test_datastr=df_test['sentence'].astype(str)\n",
        "count_vector = CountVectorizer()\n",
        "train_counts = count_vector.fit_transform(datastr)\n",
        "print (train_counts.shape)"
      ],
      "execution_count": 25,
      "outputs": [
        {
          "output_type": "stream",
          "name": "stdout",
          "text": [
            "(8000, 19048)\n"
          ]
        }
      ]
    },
    {
      "cell_type": "code",
      "metadata": {
        "id": "rfyLjxw13TQf"
      },
      "source": [
        "df=load_data_label(path_to_file)\n",
        "df_test = load_data_label(path_to_test_file)\n",
        "train_cleaned = clean_text(df)\n",
        "test_cleaned = clean_text(df_test)\n",
        "df['sentence'] = df['sentence'] + \" \" + df['element1'] + \" \" + df['element2']\n",
        "df_test['sentence'] = df_test['sentence'] + \" \" + df_test['element1'] + \" \" + df_test['element2']"
      ],
      "execution_count": 26,
      "outputs": []
    },
    {
      "cell_type": "code",
      "metadata": {
        "colab": {
          "base_uri": "https://localhost:8080/"
        },
        "id": "n7yqUWH4-mrx",
        "outputId": "66f30206-b057-4cb4-f889-bbd2984f035f"
      },
      "source": [
        "tf_transformer = TfidfTransformer(use_idf=True).fit(train_counts)\n",
        "tf_train = tf_transformer.transform(train_counts)\n",
        "print (tf_train.shape)"
      ],
      "execution_count": 27,
      "outputs": [
        {
          "output_type": "stream",
          "name": "stdout",
          "text": [
            "(8000, 19048)\n"
          ]
        }
      ]
    },
    {
      "cell_type": "code",
      "metadata": {
        "colab": {
          "base_uri": "https://localhost:8080/"
        },
        "id": "NkVutUga3S13",
        "outputId": "36bde234-def4-4d28-80ca-2d28b76a91b6"
      },
      "source": [
        "#It is reffered from http://analyticmunch.weebly.com/semeval-2010-task-8.html\n",
        "\n",
        "tf_idf_transformer = TfidfTransformer()\n",
        "tf_idf_train = tf_idf_transformer.fit_transform(train_counts)\n",
        "print (tf_idf_train.shape)"
      ],
      "execution_count": 28,
      "outputs": [
        {
          "output_type": "stream",
          "name": "stdout",
          "text": [
            "(8000, 19048)\n"
          ]
        }
      ]
    },
    {
      "cell_type": "code",
      "metadata": {
        "id": "Gl1c18a63gh-"
      },
      "source": [
        "data_component_numeric = df['tag'].values"
      ],
      "execution_count": 29,
      "outputs": []
    },
    {
      "cell_type": "markdown",
      "metadata": {
        "id": "pGYp9uj32LHi"
      },
      "source": [
        "# Naive bayes classifier"
      ]
    },
    {
      "cell_type": "code",
      "metadata": {
        "id": "1N29w98W_-8M"
      },
      "source": [
        "multi_nb = MultinomialNB().fit(tf_idf_train, data_component_numeric)"
      ],
      "execution_count": 30,
      "outputs": []
    },
    {
      "cell_type": "code",
      "metadata": {
        "id": "wFaqwjPcAQxs"
      },
      "source": [
        "text_classification = Pipeline([('vectorizer', CountVectorizer(ngram_range=(1,3))),\n",
        "    ('tfidftransformer', TfidfTransformer(use_idf=True)),\n",
        "    ('classification', MultinomialNB(alpha=0.01)),])\n",
        "text_classification = text_classification.fit(datastr, data_component_numeric)\n",
        "predicted = text_classification.predict(test_datastr)"
      ],
      "execution_count": 31,
      "outputs": []
    },
    {
      "cell_type": "code",
      "metadata": {
        "colab": {
          "base_uri": "https://localhost:8080/"
        },
        "id": "Nxz3TDsIAoM-",
        "outputId": "b1dc0079-eac0-4044-beb4-65b64092e63d"
      },
      "source": [
        "test_keys_numeric = df_test['tag'].values\n",
        "accuracy_for_test_keys = np.mean(predicted == test_keys_numeric)\n",
        "print(\"Multinomial Naive Bayes Model Accuracy = {} %\".format(accuracy_for_test_keys*100))"
      ],
      "execution_count": 32,
      "outputs": [
        {
          "output_type": "stream",
          "name": "stdout",
          "text": [
            "Multinomial Naive Bayes Model Accuracy = 51.93227824806772 %\n"
          ]
        }
      ]
    },
    {
      "cell_type": "markdown",
      "metadata": {
        "id": "_IBE8prw1-iX"
      },
      "source": [
        "# Grid search"
      ]
    },
    {
      "cell_type": "code",
      "metadata": {
        "colab": {
          "base_uri": "https://localhost:8080/"
        },
        "id": "BTO5xvQ9LGYb",
        "outputId": "0ce8a2c8-58f5-408d-e5a3-dd7f25844875"
      },
      "source": [
        "parameters = {'vectorizer__ngram_range': [(1, 3), (1, 3),(1,5)],'tfidftransformer__use_idf': (True, False),\n",
        "'classification__alpha': (1e-2, 1e-3),'vectorizer__stop_words':('english',None)}\n",
        "\n",
        "gs_clf = GridSearchCV(text_classification, parameters, n_jobs=-1)\n",
        "gs_clf = gs_clf.fit(datastr, data_component_numeric)\n",
        "print (gs_clf.best_score_)\n",
        "print (gs_clf.best_params_)"
      ],
      "execution_count": 33,
      "outputs": [
        {
          "output_type": "stream",
          "name": "stdout",
          "text": [
            "0.47962499999999997\n",
            "{'classification__alpha': 0.01, 'tfidftransformer__use_idf': False, 'vectorizer__ngram_range': (1, 3), 'vectorizer__stop_words': None}\n"
          ]
        }
      ]
    },
    {
      "cell_type": "markdown",
      "metadata": {
        "id": "xkkA9ww52HZf"
      },
      "source": [
        "# svm Classification"
      ]
    },
    {
      "cell_type": "code",
      "metadata": {
        "id": "jcTGq79vLrwk"
      },
      "source": [
        "text_classification = Pipeline([('vectorizer', CountVectorizer(ngram_range=(1,3))),\n",
        "    ('tfidftransformer', TfidfTransformer(use_idf=False)),\n",
        "    ('classification', SGDClassifier(loss='squared_hinge',penalty='l2',alpha=4*1e-4, random_state=50,eta0=0.0009)),])"
      ],
      "execution_count": 34,
      "outputs": []
    },
    {
      "cell_type": "code",
      "metadata": {
        "id": "0wICdLbgLu7T"
      },
      "source": [
        "roop = text_classification.fit(datastr, data_component_numeric)\n",
        "svm_prediction = text_classification.predict(test_datastr)"
      ],
      "execution_count": 35,
      "outputs": []
    },
    {
      "cell_type": "code",
      "metadata": {
        "colab": {
          "base_uri": "https://localhost:8080/"
        },
        "id": "LI5Y0IUgLzYE",
        "outputId": "17b4b3be-3211-4e9c-f081-e1c36ba66a10"
      },
      "source": [
        "svm_accuracy = np.mean(svm_prediction == test_keys_numeric)\n",
        "print(\"Support Vector Machine Model Accuracy={} %\".format(svm_accuracy*100))\n"
      ],
      "execution_count": 36,
      "outputs": [
        {
          "output_type": "stream",
          "name": "stdout",
          "text": [
            "Support Vector Machine Model Accuracy=54.913507545086496 %\n"
          ]
        }
      ]
    }
  ]
}